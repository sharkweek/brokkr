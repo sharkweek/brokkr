{
 "cells": [
  {
   "cell_type": "markdown",
   "metadata": {},
   "source": [
    "- - - -\n",
    "# Mechpy Tutorials\n",
    "a mechanical engineering toolbox\n",
    "\n",
    "source code - https://github.com/nagordon/mechpy  \n",
    "documentation - https://nagordon.github.io/mechpy/web/  \n",
    "\n",
    "- - - -\n",
    "\n",
    "Neal Gordon  \n",
    "2017-02-20  \n",
    "\n",
    "- - - -\n",
    "\n",
    "## Sundries\n",
    "\n",
    "this is just various codes for doing silly things with data processing and engineering stuff"
   ]
  },
  {
   "cell_type": "markdown",
   "metadata": {},
   "source": [
    "## Convert a string of numbers to a list or array"
   ]
  },
  {
   "cell_type": "code",
   "execution_count": 3,
   "metadata": {
    "collapsed": false
   },
   "outputs": [
    {
     "name": "stdout",
     "output_type": "stream",
     "text": [
      "[62606.53409, 59989.34659, 62848.01136, 80912.28693, 79218.03977, 81242.1875, 59387.27273, 73027.5974, 69470.69805, 66843.99351, 82758.44156, 81647.72727, 77519.96753] "
     ]
    }
   ],
   "source": [
    "import numpy as np\n",
    "y = '''62606.53409\n",
    "59989.34659\n",
    "62848.01136\n",
    "80912.28693\n",
    "79218.03977\n",
    "81242.1875\n",
    "59387.27273\n",
    "73027.5974\n",
    "69470.69805\n",
    "66843.99351\n",
    "82758.44156\n",
    "81647.72727\n",
    "77519.96753'''\n",
    "y = [float(x) for x in np.array(y.replace('\\n',',').split(','))]\n",
    "print(y, end=\" \")"
   ]
  },
  {
   "cell_type": "markdown",
   "metadata": {},
   "source": [
    "## Ascii Plot "
   ]
  },
  {
   "cell_type": "code",
   "execution_count": 2,
   "metadata": {
    "collapsed": false
   },
   "outputs": [
    {
     "name": "stdout",
     "output_type": "stream",
     "text": [
      "      1 |                                                                            \n",
      "        |  .                                                                         \n",
      "        |                                                                            \n",
      "        |                                                                            \n",
      "        |                                                                            \n",
      "        |   .                                                                        \n",
      "        |                                                                            \n",
      "        |               ..                                                           \n",
      "        |              .  \\                                                          \n",
      "0.19330 | ---.-------------.---------------------------------------------------------\n",
      "        |             .                ...                                           \n",
      "        |                   .        ..   ..         ....                            \n",
      "        |                    .      /       ..    ...    ............................\n",
      "        |     .      .             /          ....                                   \n",
      "        |                     ..  /                                                  \n",
      "        |           .           ..                                                   \n",
      "        |      .                                                                     \n",
      "        |          .                                                                 \n",
      "        |                                                                            \n",
      "-0.6133 |       ...                                                                  \n",
      "          0                                2.5                                  5\n"
     ]
    }
   ],
   "source": [
    "from sympy import symbols, exp, pi, cos\n",
    "from sympy.plotting import textplot\n",
    "x = symbols('x')\n",
    "textplot( exp(-x) * cos(2*pi*x)  ,0,5, 75,20)"
   ]
  },
  {
   "cell_type": "markdown",
   "metadata": {},
   "source": [
    "## another example of an Ascii Plot"
   ]
  },
  {
   "cell_type": "code",
   "execution_count": null,
   "metadata": {
    "collapsed": false
   },
   "outputs": [],
   "source": [
    "# This is the same example as in the scitools.aplotter doc string\n",
    "\n",
    "import numpy as np\n",
    "x = np.linspace(0, 5, 81)\n",
    "#y = np.exp(-0.5*x**2)*np.cos(np.pi*x)\n",
    "y=np.exp(-x)*np.cos(2*np.pi*x)\n",
    "from scitools.aplotter import plot\n",
    "plot(x, y)\n",
    "\n",
    "plot(x, y, draw_axes=False)\n",
    "\n",
    "# Plot symbols (the dot argument) at data points\n",
    "plot(x, y, plot_slope=False)\n",
    "\n",
    "# Drop axis labels\n",
    "plot(x, y, plot_labels=False)\n",
    "\n",
    "plot(x, y, dot='o', plot_slope=False)\n",
    "\n",
    "# Store plot in a string\n",
    "p = plot(x, y, output=str)\n",
    "print(p)"
   ]
  }
 ],
 "metadata": {
  "anaconda-cloud": {},
  "kernelspec": {
   "display_name": "Python [default]",
   "language": "python",
   "name": "python3"
  },
  "language_info": {
   "codemirror_mode": {
    "name": "ipython",
    "version": 3
   },
   "file_extension": ".py",
   "mimetype": "text/x-python",
   "name": "python",
   "nbconvert_exporter": "python",
   "pygments_lexer": "ipython3",
   "version": "3.5.2"
  }
 },
 "nbformat": 4,
 "nbformat_minor": 1
}
