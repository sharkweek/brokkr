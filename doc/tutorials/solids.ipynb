{
 "cells": [
  {
   "cell_type": "markdown",
   "metadata": {},
   "source": [
    "- - - -\n",
    "# Mechpy Tutorials\n",
    "a mechanical engineering toolbox\n",
    "\n",
    "source code - https://github.com/nagordon/mechpy  \n",
    "documentation - https://nagordon.github.io/mechpy/web/  \n",
    "\n",
    "- - - -\n",
    "\n",
    "Neal Gordon  \n",
    "2017-02-20  \n",
    "\n",
    "- - - -\n",
    "\n",
    "## Solid Mechanics Tutorial"
   ]
  },
  {
   "cell_type": "markdown",
   "metadata": {},
   "source": [
    "## Python Initilaization with module imports"
   ]
  },
  {
   "cell_type": "code",
   "execution_count": 338,
   "metadata": {
    "collapsed": false
   },
   "outputs": [
    {
     "name": "stdout",
     "output_type": "stream",
     "text": [
      "Using matplotlib backend: Qt4Agg\n"
     ]
    }
   ],
   "source": [
    "# setup \n",
    "import numpy as np\n",
    "import sympy as sp\n",
    "import scipy\n",
    "from pprint import pprint\n",
    "sp.init_printing(use_latex='mathjax')\n",
    "\n",
    "import matplotlib.pyplot as plt\n",
    "plt.rcParams['figure.figsize'] = (12, 8)  # (width, height)\n",
    "plt.rcParams['font.size'] = 14\n",
    "plt.rcParams['legend.fontsize'] = 16\n",
    "from matplotlib import patches\n",
    "\n",
    "get_ipython().magic('matplotlib')  # seperate window\n",
    "get_ipython().magic('matplotlib inline') # inline plotting"
   ]
  },
  {
   "cell_type": "markdown",
   "metadata": {},
   "source": [
    "## Functions "
   ]
  },
  {
   "cell_type": "code",
   "execution_count": null,
   "metadata": {
    "collapsed": true
   },
   "outputs": [],
   "source": [
    "def T1(th):\n",
    "    '''Stress Transform for Plane Stress \n",
    "    th=ply angle in degrees\n",
    "    voight notation for stress tranform. sigma1 = T1 @ sigmax\n",
    "    recall T1(th)**-1 == T1(-th)'''\n",
    "    n = np.sin(th*np.pi/180)\n",
    "    m = np.cos(th*np.pi/180)\n",
    "    T1 = np.array( [[m**2, n**2, 2*m*n],  \n",
    "                   [n**2, m**2,-2*m*n],  \n",
    "                   [-m*n, m*n,(m**2-n**2)]])    \n",
    "    return T1\n",
    "    \n",
    "def T2(th):\n",
    "    '''Strain Transform for Plane Stress\n",
    "    th=ply angle in degrees\n",
    "    voight notation for strain transform. epsilon1 = T2 @ epsilonx'''\n",
    "    n = np.sin(th*np.pi/180)\n",
    "    m = np.cos(th*np.pi/180)\n",
    "    T2 = np.array( [[m**2, n**2, m*n],  \n",
    "                 [n**2, m**2,-m*n],  \n",
    "                 [-2*m*n, 2*m*n,  (m**2-n**2)]])     \n",
    "    return T2"
   ]
  },
  {
   "cell_type": "markdown",
   "metadata": {},
   "source": [
    "# Materials\n",
    "[index](#Mechpy)\n",
    "\n",
    "## Stress and Strain\n",
    "Stress is a tensor that can be broken into \n",
    "\n",
    "$$\n",
    "\\overline{\\sigma}=\\begin{bmatrix}\n",
    " \\sigma_{xx} & \\sigma_{xy} & \\sigma_{xz}\\\\\n",
    " \\sigma_{yx} & \\sigma_{yy} & \\sigma_{yz}\\\\\n",
    " \\sigma_{zx} & \\sigma_{zy} & \\sigma_{zz}\n",
    " \\end{bmatrix} \n",
    "$$\n",
    "\n",
    "\n"
   ]
  },
  {
   "cell_type": "markdown",
   "metadata": {},
   "source": [
    "# Stress Transformations\n",
    "[index](#Mechpy)  \n",
    "\n",
    "$$\n",
    "\\overline{\\sigma}=\\begin{bmatrix}\n",
    " \\sigma_{xx} & \\sigma_{xy} & \\sigma_{xz}\\\\\n",
    " \\sigma_{yx} & \\sigma_{yy} & \\sigma_{yz}\\\\\n",
    " \\sigma_{zx} & \\sigma_{zy} & \\sigma_{zz}\n",
    " \\end{bmatrix} \n",
    "$$\n",
    "\n",
    "reduce to plane stress\n",
    "\n",
    "$$\n",
    "\\overline{\\sigma}=\\begin{bmatrix}\n",
    " \\sigma_{xx} & \\sigma_{xy} & 0 \\\\\n",
    " \\sigma_{yx} & \\sigma_{yy} & 0\\\\\n",
    " 0 &           0 &           \\sigma_{zz}\n",
    " \\end{bmatrix} \n",
    "$$\n",
    "\n",
    "or\n",
    "\n",
    "$$\n",
    "\\overline{\\sigma}=\\begin{bmatrix}\n",
    " \\sigma_{xx} & \\tau_{xy} & 0 \\\\\n",
    " \\tau_{yx} & \\sigma_{yy} & 0\\\\\n",
    " 0 &           0 &           \\sigma_{zz}\n",
    " \\end{bmatrix} \n",
    "$$\n",
    "\n",
    "\n",
    "$$\n",
    "\\overline{\\sigma}=\\begin{bmatrix}\n",
    " \\sigma_{x} & \\sigma_{xy} \\\\\n",
    " \\sigma_{yx} & \\sigma_{y} \\\\\n",
    " \\end{bmatrix} \n",
    "$$\n",
    "\n",
    "Transformation\n",
    "\n",
    "$$\n",
    "A=\\begin{bmatrix}\n",
    " cos(\\theta) & sin(\\theta) \\\\\n",
    " -sin(\\theta) & cos(\\theta) \\\\\n",
    " \\end{bmatrix} \n",
    "$$\n",
    "\n",
    "$$\n",
    "\\sigma'=A \\sigma A^T\n",
    "$$\n",
    "\n",
    "\n",
    "$$\n",
    "\\sigma_1 , \\sigma_2 = \\frac{\\sigma_{x}}{2} + \\frac{\\sigma_{y}}{2} + \\sqrt{\\tau_{xy}^{2} + \\left(\\frac{\\sigma_{x}}{2} - \\frac{\\sigma_{y}}{2}\\right)^{2}}\n",
    "$$\n",
    "\n",
    "\n",
    "$$\n",
    "T=\\left[\\begin{matrix}\\sin^{2}{\\left (\\theta \\right )} & \\cos^{2}{\\left (\\theta \\right )} & 2 \\sin{\\left (\\theta \\right )} \\cos{\\left (\\theta \\right )}\\cos^{2}{\\left (\\theta \\right )} & \\\\\n",
    "\\sin^{2}{\\left (\\theta \\right )} & - 2 \\sin{\\left (\\theta \\right )} \\cos{\\left (\\theta \\right )}\\- \\sin{\\left (\\theta \\right )} \\cos{\\left (\\theta \\right )} & \\\\\n",
    "\\sin{\\left (\\theta \\right )} \\cos{\\left (\\theta \\right )} & \\sin^{2}{\\left (\\theta \\right )} - \\cos^{2}{\\left (\\theta \\right )}\\end{matrix}\\right]\n",
    "$$"
   ]
  },
  {
   "cell_type": "code",
   "execution_count": 2,
   "metadata": {
    "collapsed": true
   },
   "outputs": [],
   "source": [
    "import sympy as sp\n",
    "from sympy.abc import tau, sigma\n",
    "import numpy as np\n",
    "sp.init_printing()"
   ]
  },
  {
   "cell_type": "code",
   "execution_count": 3,
   "metadata": {
    "collapsed": false
   },
   "outputs": [
    {
     "name": "stdout",
     "output_type": "stream",
     "text": [
      "\\frac{\\sigma_{x}}{2} + \\frac{\\sigma_{y}}{2} + \\sqrt{\\tau_{xy}^{2} + \\left(\\frac{\\sigma_{x}}{2} - \\frac{\\sigma_{y}}{2}\\right)^{2}}\n"
     ]
    },
    {
     "data": {
      "image/png": "[encoded data removed]",
      "text/latex": [
       "$$\\frac{\\sigma_{x}}{2} + \\frac{\\sigma_{y}}{2} + \\sqrt{\\tau_{xy}^{2} + \\left(\\frac{\\sigma_{x}}{2} - \\frac{\\sigma_{y}}{2}\\right)^{2}}$$"
      ],
      "text/plain": [
       "                _____________________\n",
       "               ╱                   2 \n",
       "σₓ   σ_y      ╱      2   ⎛σₓ   σ_y⎞  \n",
       "── + ─── +   ╱   τ_xy  + ⎜── - ───⎟  \n",
       "2     2    ╲╱            ⎝2     2 ⎠  "
      ]
     },
     "execution_count": 3,
     "metadata": {},
     "output_type": "execute_result"
    }
   ],
   "source": [
    "sx,sy,txy,tp = sp.symbols('sigma_x,sigma_y,tau_xy,theta_p')\n",
    "sp1 = (sx+sy)/2 + sp.sqrt( ((sx-sy)/2)**2 + txy**2 )\n",
    "sp2 = (sx+sy)/2 - sp.sqrt( ((sx-sy)/2)**2 + txy**2 )\n",
    "print(sp.latex(sp1))\n",
    "sp1"
   ]
  },
  {
   "cell_type": "code",
   "execution_count": 4,
   "metadata": {
    "collapsed": false
   },
   "outputs": [
    {
     "data": {
      "image/png": "[encoded data removed]",
      "text/latex": [
       "$$\\frac{1}{2} \\operatorname{atan}{\\left (\\frac{2 \\tau_{xy}}{\\sigma_{x} - \\sigma_{y}} \\right )}$$"
      ],
      "text/plain": [
       "    ⎛ 2⋅τ_xy ⎞\n",
       "atan⎜────────⎟\n",
       "    ⎝σₓ - σ_y⎠\n",
       "──────────────\n",
       "      2       "
      ]
     },
     "execution_count": 4,
     "metadata": {},
     "output_type": "execute_result"
    }
   ],
   "source": [
    "tp = sp.atan(2*txy/(sx-sy) )/2\n",
    "tp"
   ]
  },
  {
   "cell_type": "code",
   "execution_count": 5,
   "metadata": {
    "collapsed": false
   },
   "outputs": [
    {
     "data": {
      "image/png": "[encoded data removed]",
      "text/latex": [
       "$$-0.662908831834016$$"
      ],
      "text/plain": [
       "-0.662908831834016"
      ]
     },
     "execution_count": 5,
     "metadata": {},
     "output_type": "execute_result"
    }
   ],
   "source": [
    "tpp = tp.evalf(subs={sx:10,sy:15,txy:10})\n",
    "tpp"
   ]
  },
  {
   "cell_type": "code",
   "execution_count": 6,
   "metadata": {
    "collapsed": false
   },
   "outputs": [
    {
     "data": {
      "image/png": "[encoded data removed]",
      "text/latex": [
       "$$\\left[\\begin{matrix}\\sigma_{11} & \\tau_{12} & 0\\\\\\tau_{12} & \\sigma_{22} & 0\\\\0 & 0 & \\sigma_{33}\\end{matrix}\\right]$$"
      ],
      "text/plain": [
       "⎡σ₁₁  τ₁₂   0 ⎤\n",
       "⎢             ⎥\n",
       "⎢τ₁₂  σ₂₂   0 ⎥\n",
       "⎢             ⎥\n",
       "⎣ 0    0   σ₃₃⎦"
      ]
     },
     "execution_count": 6,
     "metadata": {},
     "output_type": "execute_result"
    }
   ],
   "source": [
    "#s,s11,s22,s33,s12 = sp.var('s,s11,s22,s33,s12')\n",
    "s,s11,s22,s33,s12,s13,t,t12 = sp.symbols('sigma, sigma11,sigma22,sigma33,sigma12,sigma13,tau,tau12')\n",
    "s = sp.Matrix([[s11,t12,0],[t12,s22,0],[0,0,s33]])\n",
    "s"
   ]
  },
  {
   "cell_type": "code",
   "execution_count": 7,
   "metadata": {
    "collapsed": false
   },
   "outputs": [
    {
     "data": {
      "image/png": "[encoded data removed]",
      "text/latex": [
       "$$\\left[\\begin{matrix}\\sin^{2}{\\left (\\theta \\right )} & \\cos^{2}{\\left (\\theta \\right )} & 2 \\sin{\\left (\\theta \\right )} \\cos{\\left (\\theta \\right )}\\\\\\cos^{2}{\\left (\\theta \\right )} & \\sin^{2}{\\left (\\theta \\right )} & - 2 \\sin{\\left (\\theta \\right )} \\cos{\\left (\\theta \\right )}\\\\- \\sin{\\left (\\theta \\right )} \\cos{\\left (\\theta \\right )} & \\sin{\\left (\\theta \\right )} \\cos{\\left (\\theta \\right )} & \\sin^{2}{\\left (\\theta \\right )} - \\cos^{2}{\\left (\\theta \\right )}\\end{matrix}\\right]$$"
      ],
      "text/plain": [
       "⎡      2               2                         ⎤\n",
       "⎢   sin (θ)         cos (θ)      2⋅sin(θ)⋅cos(θ) ⎥\n",
       "⎢                                                ⎥\n",
       "⎢      2               2                         ⎥\n",
       "⎢   cos (θ)         sin (θ)     -2⋅sin(θ)⋅cos(θ) ⎥\n",
       "⎢                                                ⎥\n",
       "⎢                                  2         2   ⎥\n",
       "⎣-sin(θ)⋅cos(θ)  sin(θ)⋅cos(θ)  sin (θ) - cos (θ)⎦"
      ]
     },
     "execution_count": 7,
     "metadata": {},
     "output_type": "execute_result"
    }
   ],
   "source": [
    "t = sp.symbols('theta')\n",
    "m = sp.sin(t)\n",
    "n = sp.cos(t)\n",
    "T = sp.Matrix([[m**2,n**2, 2*m*n],[n**2,m**2,-2*m*n],[-m*n,m*n,m**2-n**2]])\n",
    "T"
   ]
  },
  {
   "cell_type": "code",
   "execution_count": 8,
   "metadata": {
    "collapsed": false
   },
   "outputs": [
    {
     "data": {
      "image/png": "[encoded data removed]",
      "text/latex": [
       "$$\\left[\\begin{matrix}\\frac{1}{2} & \\frac{1}{2} & 1\\\\\\frac{1}{2} & \\frac{1}{2} & -1\\\\- \\frac{1}{2} & \\frac{1}{2} & 0\\end{matrix}\\right]$$"
      ],
      "text/plain": [
       "⎡1/2   1/2  1 ⎤\n",
       "⎢             ⎥\n",
       "⎢1/2   1/2  -1⎥\n",
       "⎢             ⎥\n",
       "⎣-1/2  1/2  0 ⎦"
      ]
     },
     "execution_count": 8,
     "metadata": {},
     "output_type": "execute_result"
    }
   ],
   "source": [
    "T1 = T.subs(t, sp.pi/4)\n",
    "T1"
   ]
  },
  {
   "cell_type": "code",
   "execution_count": 9,
   "metadata": {
    "collapsed": false
   },
   "outputs": [
    {
     "data": {
      "image/png": "[encoded data removed]",
      "text/latex": [
       "$$\\left[\\begin{matrix}\\frac{\\sigma_{11}}{4} + \\frac{\\sigma_{22}}{4} + \\frac{\\sigma_{33}}{2} + \\frac{\\tau_{12}}{2} & \\frac{\\sigma_{11}}{4} + \\frac{\\sigma_{22}}{4} - \\frac{\\sigma_{33}}{2} + \\frac{\\tau_{12}}{2} & - \\frac{\\sigma_{11}}{2} + \\frac{\\sigma_{22}}{2}\\\\\\frac{\\sigma_{11}}{4} + \\frac{\\sigma_{22}}{4} - \\frac{\\sigma_{33}}{2} + \\frac{\\tau_{12}}{2} & \\frac{\\sigma_{11}}{4} + \\frac{\\sigma_{22}}{4} + \\frac{\\sigma_{33}}{2} + \\frac{\\tau_{12}}{2} & - \\frac{\\sigma_{11}}{2} + \\frac{\\sigma_{22}}{2}\\\\- \\frac{\\sigma_{11}}{4} + \\frac{\\sigma_{22}}{4} & - \\frac{\\sigma_{11}}{4} + \\frac{\\sigma_{22}}{4} & \\frac{\\sigma_{11}}{2} + \\frac{\\sigma_{22}}{2} - \\tau_{12}\\end{matrix}\\right]$$"
      ],
      "text/plain": [
       "⎡σ₁₁   σ₂₂   σ₃₃   τ₁₂  σ₁₁   σ₂₂   σ₃₃   τ₁₂      σ₁₁   σ₂₂  ⎤\n",
       "⎢─── + ─── + ─── + ───  ─── + ─── - ─── + ───    - ─── + ───  ⎥\n",
       "⎢ 4     4     2     2    4     4     2     2        2     2   ⎥\n",
       "⎢                                                             ⎥\n",
       "⎢σ₁₁   σ₂₂   σ₃₃   τ₁₂  σ₁₁   σ₂₂   σ₃₃   τ₁₂      σ₁₁   σ₂₂  ⎥\n",
       "⎢─── + ─── - ─── + ───  ─── + ─── + ─── + ───    - ─── + ───  ⎥\n",
       "⎢ 4     4     2     2    4     4     2     2        2     2   ⎥\n",
       "⎢                                                             ⎥\n",
       "⎢       σ₁₁   σ₂₂              σ₁₁   σ₂₂       σ₁₁   σ₂₂      ⎥\n",
       "⎢     - ─── + ───            - ─── + ───       ─── + ─── - τ₁₂⎥\n",
       "⎣        4     4                4     4         2     2       ⎦"
      ]
     },
     "execution_count": 9,
     "metadata": {},
     "output_type": "execute_result"
    }
   ],
   "source": [
    "sprime = T1 * s * T1.inv()\n",
    "sprime"
   ]
  },
  {
   "cell_type": "code",
   "execution_count": 10,
   "metadata": {
    "collapsed": false
   },
   "outputs": [
    {
     "data": {
      "image/png": "[encoded data removed]",
      "text/latex": [
       "$$\\left[\\begin{matrix}2.5 & 2.5 & -5.0\\\\2.5 & 2.5 & -5.0\\\\-2.5 & -2.5 & 5.0\\end{matrix}\\right]$$"
      ],
      "text/plain": [
       "⎡2.5   2.5   -5.0⎤\n",
       "⎢                ⎥\n",
       "⎢2.5   2.5   -5.0⎥\n",
       "⎢                ⎥\n",
       "⎣-2.5  -2.5  5.0 ⎦"
      ]
     },
     "execution_count": 10,
     "metadata": {},
     "output_type": "execute_result"
    }
   ],
   "source": [
    "sprime.evalf(subs={s11:10, s22:00, s33:0, t12:0})"
   ]
  },
  {
   "cell_type": "code",
   "execution_count": 64,
   "metadata": {
    "collapsed": false
   },
   "outputs": [
    {
     "data": {
      "image/png": "[encoded data removed]",
      "text/latex": [
       "$$\\left \\{ \\sigma_{33} : 1, \\quad \\frac{\\sigma_{11}}{2} + \\frac{\\sigma_{22}}{2} - \\frac{1}{2} \\sqrt{\\sigma_{11}^{2} - 2 \\sigma_{11} \\sigma_{22} + 4 \\sigma_{12}^{2} + \\sigma_{22}^{2}} : 1, \\quad \\frac{\\sigma_{11}}{2} + \\frac{\\sigma_{22}}{2} + \\frac{1}{2} \\sqrt{\\sigma_{11}^{2} - 2 \\sigma_{11} \\sigma_{22} + 4 \\sigma_{12}^{2} + \\sigma_{22}^{2}} : 1\\right \\}$$"
      ],
      "text/plain": [
       "⎧                       __________________________________                    \n",
       "⎪                      ╱    2                    2      2                    ╱\n",
       "⎨        σ₁₁   σ₂₂   ╲╱  σ₁₁  - 2⋅σ₁₁⋅σ₂₂ + 4⋅σ₁₂  + σ₂₂       σ₁₁   σ₂₂   ╲╱ \n",
       "⎪σ₃₃: 1, ─── + ─── - ─────────────────────────────────────: 1, ─── + ─── + ───\n",
       "⎩         2     2                      2                        2     2       \n",
       "\n",
       "__________________________________   ⎫\n",
       "    2                    2      2    ⎪\n",
       " σ₁₁  - 2⋅σ₁₁⋅σ₂₂ + 4⋅σ₁₂  + σ₂₂     ⎬\n",
       "──────────────────────────────────: 1⎪\n",
       "               2                     ⎭"
      ]
     },
     "execution_count": 64,
     "metadata": {},
     "output_type": "execute_result"
    }
   ],
   "source": [
    "s.eigenvals()"
   ]
  },
  {
   "cell_type": "code",
   "execution_count": 65,
   "metadata": {
    "collapsed": false
   },
   "outputs": [
    {
     "data": {
      "image/png": "[encoded data removed]",
      "text/latex": [
       "$$\\left[\\begin{matrix}2.2 & 7.3 & 0\\\\7.3 & 3.0 & 0\\\\0 & 0 & 3.14159265358979\\end{matrix}\\right]$$"
      ],
      "text/plain": [
       "⎡2.2  7.3         0        ⎤\n",
       "⎢                          ⎥\n",
       "⎢7.3  3.0         0        ⎥\n",
       "⎢                          ⎥\n",
       "⎣ 0    0   3.14159265358979⎦"
      ]
     },
     "execution_count": 65,
     "metadata": {},
     "output_type": "execute_result"
    }
   ],
   "source": [
    "s2 = s.evalf(subs={s11:2.2, s22:3, s33:sp.pi, s12:7.3})\n",
    "s2"
   ]
  },
  {
   "cell_type": "markdown",
   "metadata": {},
   "source": [
    "## Stress transformation with equations "
   ]
  },
  {
   "cell_type": "code",
   "execution_count": 2,
   "metadata": {
    "collapsed": false
   },
   "outputs": [],
   "source": [
    "%matplotlib inline"
   ]
  },
  {
   "cell_type": "code",
   "execution_count": 3,
   "metadata": {
    "collapsed": false
   },
   "outputs": [
    {
     "name": "stdout",
     "output_type": "stream",
     "text": [
      "U:\\Engineering Department\\Gordon_Neal\\Documents\\eng_toolbox\\mechpy\n"
     ]
    }
   ],
   "source": [
    "cd .."
   ]
  },
  {
   "cell_type": "code",
   "execution_count": 22,
   "metadata": {
    "collapsed": true
   },
   "outputs": [],
   "source": [
    "from mechpy.math import T2rot\n",
    "import matplotlib.pyplot as plt\n",
    "import numpy as np\n",
    "import matplotlib as mpl\n",
    "mpl.rcParams['figure.figsize'] = (10,8)"
   ]
  },
  {
   "cell_type": "code",
   "execution_count": 38,
   "metadata": {
    "collapsed": false
   },
   "outputs": [
    {
     "data": {
      "image/png": "[encoded data removed]",
      "text/plain": [
       "<matplotlib.figure.Figure at 0xa3b6208>"
      ]
     },
     "metadata": {},
     "output_type": "display_data"
    }
   ],
   "source": [
    "from IPython.html.widgets import *\n",
    "from mechpy.math import T2rot\n",
    "#x = [-1,1, 0,-1,]\n",
    "#y = [-1,-1,1,-1]\n",
    "#xy = np.array([x,y])\n",
    "#plt.xlim([-11.1,11.1])\n",
    "#plt.ylim([-11.1,11.1])\n",
    "#xyR = np.dot(T2rot(30),xy)\n",
    "#plt.plot(xyR[0,:],xyR[1,:])\n",
    "fig1 = plt.figure(figsize=(10,8))\n",
    "def rot2(th, xt,yt,zt):\n",
    "    xyR = np.dot(T2rot(th),xy*zt)\n",
    "    xyR[0,:]+=xt\n",
    "    xyR[1,:]+=yt\n",
    "    plt.plot(xyR[0,:],xyR[1,:])\n",
    "    plt.axis('square')\n",
    "    plt.xlim([-11.1,11.1])\n",
    "    plt.ylim([-11.1,11.1])    \n",
    "    plt.show()\n",
    "\n",
    "interact(rot2, th=(0,np.pi,np.pi/90), yt=(1,10,1), xt=(1,10,1), zt=(1,10,1));"
   ]
  },
  {
   "cell_type": "code",
   "execution_count": 47,
   "metadata": {
    "collapsed": false
   },
   "outputs": [
    {
     "name": "stdout",
     "output_type": "stream",
     "text": [
      "transformed stress\n",
      "[33.493649053890351, 466.50635094610965, 125.00000000000003]\n",
      "---principal stresses---\n",
      "sigma1p = 500.00\n",
      "sigma2p = 0.00\n",
      "principal plane angle = 15.00\n",
      "---principal shear---\n",
      "tauxyp = 250.00 with avg normal stress = 250.00\n"
     ]
    },
    {
     "data": {
      "image/png": "[encoded data removed]",
      "text/plain": [
       "<matplotlib.figure.Figure at 0x899cbe0>"
      ]
     },
     "metadata": {},
     "output_type": "display_data"
    }
   ],
   "source": [
    "# stress angle transformation\n",
    "import numpy as np\n",
    "import matplotlib.pyplot as plt\n",
    "import matplotlib as mpl\n",
    "mpl.rcParams['figure.figsize'] = (10,8)\n",
    "mpl.rcParams['font.size'] = 16\n",
    "mpl.rcParams['legend.fontsize'] = 14\n",
    "\n",
    "plt.figure(figsize=(10,8))\n",
    "def mohr(sigmax, sigmay, tauxy, angle):\n",
    "    plt.figure(figsize=(10,8))\n",
    "    # angle rotates clockwise\n",
    "    theta = (angle-90) * np.pi/180\n",
    "    # stress transformed to any angle\n",
    "    sigmaxt = (sigmax + sigmay)/2 + (sigmax-sigmay)/2 * np.cos(2*theta) + tauxy*np.sin(2*theta)\n",
    "    sigmayt = (sigmax + sigmay)/2 + (sigmax-sigmay)/2 * np.cos(2*(theta + np.pi/2)) + tauxy*np.sin(2*(theta+ np.pi/2))\n",
    "    tauxyt = -(sigmax-sigmay)/2*np.sin(2*theta) + tauxy*np.cos(2*theta)\n",
    "    print('transformed stress')\n",
    "    print([sigmaxt, sigmayt, tauxyt])\n",
    "\n",
    "    # principal stresses\n",
    "    sigma1p = (sigmaxt + sigmayt)/2 + np.sqrt( ((sigmaxt-sigmayt)/2)**2 + tauxyt**2)\n",
    "    sigma2p = (sigmaxt + sigmayt)/2 - np.sqrt( ((sigmaxt-sigmayt)/2)**2 + tauxyt**2)\n",
    "    tauxyp = np.sqrt( ( (sigmaxt-sigmayt)/2 )**2 + tauxyt**2  )\n",
    "    sigmap = [sigma1p, sigma2p]\n",
    "    thetap = -np.arctan(tauxyt/ ((sigmaxt-sigmayt)/2)) / 2 * 180 / np.pi\n",
    "    sigmaavg = (sigma1p+sigma2p)/2\n",
    "    R = np.sqrt(((sigmaxt-sigmayt)/2)**2 + tauxyt**2)\n",
    "\n",
    "    print('---principal stresses---')\n",
    "    print('sigma1p = {:.2f}'.format(sigma1p) )\n",
    "    print('sigma2p = {:.2f}'.format(sigma2p) )\n",
    "    print('principal plane angle = {:.2f}'.format(thetap) )\n",
    "    print('---principal shear---')\n",
    "    print('tauxyp = {:.2f} with avg normal stress = {:.2f}'.format(tauxyp,sigmaavg))\n",
    "\n",
    "    r = np.linspace(-2*np.pi,2*np.pi,100)\n",
    "\n",
    "    ## keep this for sigma3\n",
    "    # x = np.cos(r) * (sigma1p/2) + sigma1p/2\n",
    "    # y = np.sin(r) * (sigma1p/2) \n",
    "    # plt.plot(x,y,'bo', sigmaavg,0,'bo')  \n",
    "    # x = np.cos(r) * (sigma2p/2) + sigma2p/2\n",
    "    # y = np.sin(r) * (sigma2p/2) \n",
    "    # plt.plot(x,y,'bo', sigmaavg,0,'bo')  \n",
    "\n",
    "    x = np.cos(r) * R + sigmaavg\n",
    "    y = np.sin(r) * R\n",
    "    plt.plot(x,y,'b', sigmaavg,0,'bo')  \n",
    "\n",
    "    plt.plot([sigmaxt,sigmayt],[tauxyt, -tauxyt], 'g-o', label='applied stress');\n",
    "    plt.plot([sigma1p,sigma2p],[0,0],'ro');\n",
    "    plt.plot([sigmaavg,sigmaavg],[tauxyp,-tauxyp], 'ro', label='principal stress');\n",
    "    plt.plot([sigmaxt,sigmaxt],[tauxyt, 0], '--g'); plt.plot([sigmaxt,sigmaxt],[tauxyt, 0], 'og');\n",
    "    plt.plot([sigmayt,sigmayt],[-tauxyt, 0], '--g'); plt.plot([sigmayt,sigmayt],[-tauxyt, 0], 'og');\n",
    "    plt.plot([sigmaavg, sigmaxt],[tauxyt, tauxyt], '--g'); plt.plot([sigmaavg, sigmaxt],[tauxyt, tauxyt], 'og');\n",
    "    plt.plot([sigmaavg, sigmayt],[-tauxyt, -tauxyt], '--g'); plt.plot([sigmaavg, sigmayt],[-tauxyt, -tauxyt], 'og');\n",
    "    plt.axis('equal') ; plt.grid();\n",
    "    plt.xlabel('$\\sigma_x,\\sigma_y$');\n",
    "    plt.ylabel('$\\\\tau_{xy}$');\n",
    "    plt.title('Mohrs Circle 2D Plane Stress ');\n",
    "    plt.legend();\n",
    "\n",
    "interact(mohr, sigmax=(0,500,10),sigmay=(0,500,10),tauxy=(0,500,10),angle=(0,90,5));"
   ]
  },
  {
   "cell_type": "code",
   "execution_count": 41,
   "metadata": {
    "collapsed": false
   },
   "outputs": [
    {
     "name": "stdout",
     "output_type": "stream",
     "text": [
      "transformed stress\n",
      "[-4.898587196589413e-15, -20.0, -40.0]\n",
      "---principal stresses---\n",
      "sigma1p = 31.23\n",
      "sigma2p = -51.23\n",
      "principal plane angle = 37.98\n",
      "---principal shear---\n",
      "tauxyp = 41.23 with avg normal stress = -10.00\n"
     ]
    },
    {
     "data": {
      "image/png": "[encoded data removed]",
      "text/plain": [
       "<matplotlib.figure.Figure at 0xa3c3a20>"
      ]
     },
     "metadata": {},
     "output_type": "display_data"
    }
   ],
   "source": [
    "# stress angle transformation\n",
    "import numpy as np\n",
    "import matplotlib.pyplot as plt\n",
    "import matplotlib as mpl\n",
    "mpl.rcParams['figure.figsize'] = (10,8)\n",
    "mpl.rcParams['font.size'] = 16\n",
    "mpl.rcParams['legend.fontsize'] = 14\n",
    "\n",
    "sigmax = -20   \n",
    "sigmay = 0  \n",
    "tauxy = 40   \n",
    "\n",
    "angle = 0\n",
    "\n",
    "# angle rotates clockwise\n",
    "theta = (angle-90) * np.pi/180\n",
    "# stress transformed to any angle\n",
    "sigmaxt = (sigmax + sigmay)/2 + (sigmax-sigmay)/2 * np.cos(2*theta) + tauxy*np.sin(2*theta)\n",
    "sigmayt = (sigmax + sigmay)/2 + (sigmax-sigmay)/2 * np.cos(2*(theta + np.pi/2)) + tauxy*np.sin(2*(theta+ np.pi/2))\n",
    "tauxyt = -(sigmax-sigmay)/2*np.sin(2*theta) + tauxy*np.cos(2*theta)\n",
    "print('transformed stress')\n",
    "print([sigmaxt, sigmayt, tauxyt])\n",
    "\n",
    "# principal stresses\n",
    "sigma1p = (sigmaxt + sigmayt)/2 + np.sqrt( ((sigmaxt-sigmayt)/2)**2 + tauxyt**2)\n",
    "sigma2p = (sigmaxt + sigmayt)/2 - np.sqrt( ((sigmaxt-sigmayt)/2)**2 + tauxyt**2)\n",
    "tauxyp = np.sqrt( ( (sigmaxt-sigmayt)/2 )**2 + tauxyt**2  )\n",
    "sigmap = [sigma1p, sigma2p]\n",
    "thetap = -np.arctan(tauxyt/ ((sigmaxt-sigmayt)/2)) / 2 * 180 / np.pi\n",
    "sigmaavg = (sigma1p+sigma2p)/2\n",
    "R = np.sqrt(((sigmaxt-sigmayt)/2)**2 + tauxyt**2)\n",
    "\n",
    "print('---principal stresses---')\n",
    "print('sigma1p = {:.2f}'.format(sigma1p) )\n",
    "print('sigma2p = {:.2f}'.format(sigma2p) )\n",
    "print('principal plane angle = {:.2f}'.format(thetap) )\n",
    "print('---principal shear---')\n",
    "print('tauxyp = {:.2f} with avg normal stress = {:.2f}'.format(tauxyp,sigmaavg))\n",
    "\n",
    "r = np.linspace(-2*np.pi,2*np.pi,100)\n",
    "\n",
    "## keep this for sigma3\n",
    "# x = np.cos(r) * (sigma1p/2) + sigma1p/2\n",
    "# y = np.sin(r) * (sigma1p/2) \n",
    "# plt.plot(x,y,'bo', sigmaavg,0,'bo')  \n",
    "# x = np.cos(r) * (sigma2p/2) + sigma2p/2\n",
    "# y = np.sin(r) * (sigma2p/2) \n",
    "# plt.plot(x,y,'bo', sigmaavg,0,'bo')  \n",
    "\n",
    "x = np.cos(r) * R + sigmaavg\n",
    "y = np.sin(r) * R\n",
    "plt.plot(x,y,'b', sigmaavg,0,'bo')  \n",
    "\n",
    "plt.plot([sigmaxt,sigmayt],[tauxyt, -tauxyt], 'g-o', label='applied stress');\n",
    "plt.plot([sigma1p,sigma2p],[0,0],'ro');\n",
    "plt.plot([sigmaavg,sigmaavg],[tauxyp,-tauxyp], 'ro', label='principal stress');\n",
    "plt.plot([sigmaxt,sigmaxt],[tauxyt, 0], '--g'); plt.plot([sigmaxt,sigmaxt],[tauxyt, 0], 'og');\n",
    "plt.plot([sigmayt,sigmayt],[-tauxyt, 0], '--g'); plt.plot([sigmayt,sigmayt],[-tauxyt, 0], 'og');\n",
    "plt.plot([sigmaavg, sigmaxt],[tauxyt, tauxyt], '--g'); plt.plot([sigmaavg, sigmaxt],[tauxyt, tauxyt], 'og');\n",
    "plt.plot([sigmaavg, sigmayt],[-tauxyt, -tauxyt], '--g'); plt.plot([sigmaavg, sigmayt],[-tauxyt, -tauxyt], 'og');\n",
    "plt.axis('equal') ; plt.grid();\n",
    "plt.xlabel('$\\sigma_x,\\sigma_y$');\n",
    "plt.ylabel('$\\\\tau_{xy}$');\n",
    "plt.title('Mohrs Circle 2D Plane Stress ');\n",
    "plt.legend();"
   ]
  },
  {
   "cell_type": "markdown",
   "metadata": {},
   "source": [
    "## Stress Transformation with matrices"
   ]
  },
  {
   "cell_type": "code",
   "execution_count": 413,
   "metadata": {
    "collapsed": false
   },
   "outputs": [
    {
     "name": "stdout",
     "output_type": "stream",
     "text": [
      "\n",
      " principal stresses\n",
      "[ -46.39410298  116.39410298    0.        ]\n",
      "\n",
      " principal plane angle\n",
      "[[ 66.25522354  23.74477646   0.        ]\n",
      " [-23.74477646  66.25522354   0.        ]\n",
      " [  0.           0.         -90.        ]]\n"
     ]
    }
   ],
   "source": [
    "# Principal PLane Stress\n",
    "\n",
    "sigmax = -20   \n",
    "sigmay = 90  \n",
    "tauxy = 60   \n",
    "\n",
    "sigma = np.array([[sigmax, tauxy, 0],\n",
    "                  [tauxy,  sigmay,0],\n",
    "                  [0,      0,     0]])\n",
    "\n",
    "sigmap = np.linalg.eig(sigma)[0]\n",
    "print('\\n principal stresses')\n",
    "print(sigmap)\n",
    "\n",
    "thetap = np.linalg.eig(sigma)[1]  # principal cosine angle\n",
    "\n",
    "print('\\n principal plane angle')\n",
    "print(np.arccos(thetap)*180/np.pi-90)\n"
   ]
  },
  {
   "cell_type": "code",
   "execution_count": 414,
   "metadata": {
    "collapsed": false
   },
   "outputs": [
    {
     "name": "stdout",
     "output_type": "stream",
     "text": [
      "\n",
      " transformed stresses\n",
      "[[  3.26191148  53.53187815  26.02803718]\n",
      " [ 53.53187815  79.67433223  13.53565184]\n",
      " [ 26.02803718  13.53565184  -6.46812185]]\n"
     ]
    }
   ],
   "source": [
    "# specified angle stress transformation\n",
    "\n",
    "sigmax = -20   \n",
    "sigmay = 90  \n",
    "tauxy = 60    \n",
    "\n",
    "sigma = np.array([[sigmax, tauxy, 0],\n",
    "                  [tauxy,  sigmay,0],\n",
    "                  [0,      0,     0]])\n",
    "\n",
    "ang = 23\n",
    "sigmat = T1(ang) @ sigma @ np.transpose(T1(ang))\n",
    "\n",
    "print('\\n transformed stresses')\n",
    "print(sigmat)\n"
   ]
  },
  {
   "cell_type": "code",
   "execution_count": null,
   "metadata": {
    "collapsed": false
   },
   "outputs": [],
   "source": []
  },
  {
   "cell_type": "code",
   "execution_count": 377,
   "metadata": {
    "collapsed": false
   },
   "outputs": [
    {
     "name": "stdout",
     "output_type": "stream",
     "text": [
      "-23.744776461\n"
     ]
    }
   ],
   "source": [
    "# maximum in-plane shear stress\n",
    "eps = 1e-16   # machine epsilon to avoid divide-by-zero error\n",
    "rad_to_deg = 180/np.pi\n",
    "theta1 = 0.5 * np.arctan( 2*tauxy / ((sigmax-sigmay+eps))) * rad_to_deg\n",
    "print(theta1)"
   ]
  },
  {
   "cell_type": "code",
   "execution_count": 56,
   "metadata": {
    "collapsed": false
   },
   "outputs": [
    {
     "name": "stdout",
     "output_type": "stream",
     "text": [
      "[ 0.  0.  0.  0.  0.  0.  0.  0.  0.  0.  0.  0.  0.  0.  0.  0.  0.  0.\n",
      "  0.  0.  0.  0.  0.  0.  0.  0.  0.  0.  0.  0.  0.  0.  0.  0.  0.  0.\n",
      "  0.  0.  0.  0.  0.  0.  0.  0.  0.  0.  0.  0.  0.  0.]\n"
     ]
    }
   ],
   "source": [
    "tauxy = 0    # lbs/in \n",
    "sigmax = 100   # lbs/in\n",
    "sigmay = np.linspace(0,1.100)   # lbs/in\n",
    "\n",
    "eps = 1e-16   # machine epsilon to avoid divide-by-zero error\n",
    "rad_to_deg = 180/np.pi\n",
    "theta1 = 0.5 * np.arctan( 2*tauxy / ((sigmax-sigmay+eps))) * rad_to_deg\n",
    "print(theta1)\n",
    "\n",
    "# sigmax = 100\n",
    "# sigmay = np.linspace(0,1.100)\n",
    "# tauxy = 0\n",
    "# tparray = sp.atan(2*tauxy/(sigmax-sigmay) )/2\n",
    "# tparray"
   ]
  },
  {
   "cell_type": "code",
   "execution_count": 17,
   "metadata": {
    "collapsed": false
   },
   "outputs": [
    {
     "data": {
      "text/plain": [
       "array([[0, 1, 0],\n",
       "       [1, 0, 0],\n",
       "       [0, 0, 0]])"
      ]
     },
     "execution_count": 17,
     "metadata": {},
     "output_type": "execute_result"
    }
   ],
   "source": [
    "sigma"
   ]
  },
  {
   "cell_type": "code",
   "execution_count": 18,
   "metadata": {
    "collapsed": false
   },
   "outputs": [
    {
     "data": {
      "text/plain": [
       "array([[ 1.,  0.],\n",
       "       [ 0., -1.]])"
      ]
     },
     "execution_count": 18,
     "metadata": {},
     "output_type": "execute_result"
    }
   ],
   "source": [
    "th = np.pi/4  # 45 deg\n",
    "m = np.cos(th)\n",
    "n = np.sin(th)\n",
    "A = np.array([ [m,n],[-n,m]])\n",
    "\n",
    "tauxy = 1    # lbs/in \n",
    "sigmax = 0   # lbs/in\n",
    "sigmay = 0   # lbs/in\n",
    "\n",
    "sigma = np.array([[sigmax, tauxy],\n",
    "                  [tauxy,   sigmay]])\n",
    "\n",
    "sigmat = A @ sigma @ A.T  # transformed stress\n",
    "sigmat"
   ]
  },
  {
   "cell_type": "code",
   "execution_count": 19,
   "metadata": {
    "collapsed": false
   },
   "outputs": [
    {
     "name": "stdout",
     "output_type": "stream",
     "text": [
      "[ 1. -1.]\n",
      "[[ 57.29577951   0.        ]\n",
      " [  0.          57.29577951]]\n"
     ]
    }
   ],
   "source": [
    "sigmap = np.linalg.eig(sigmat)[0]  # principal stresses\n",
    "print(sigmap)\n",
    "\n",
    "thetap = np.linalg.eig(sigmat)[1]  # principal planes\n",
    "print(thetap* 180/np.pi)"
   ]
  },
  {
   "cell_type": "code",
   "execution_count": null,
   "metadata": {
    "collapsed": true
   },
   "outputs": [],
   "source": []
  },
  {
   "cell_type": "code",
   "execution_count": 20,
   "metadata": {
    "collapsed": false
   },
   "outputs": [
    {
     "name": "stdout",
     "output_type": "stream",
     "text": [
      "[[ 63.66  63.66   0.  ]\n",
      " [ 63.66   0.     0.  ]\n",
      " [ 63.66   0.     0.  ]]\n"
     ]
    }
   ],
   "source": [
    "# Principal Stresses\n",
    "\n",
    "sx  = 63.66\n",
    "sy  = 0\n",
    "sz  = 0\n",
    "txy = 63.66\n",
    "txz = 0\n",
    "tyz = 0\n",
    "\n",
    "S = np.matrix([[sx, txy, txz],\n",
    "            [txy, sy, tyz],\n",
    "            [txy, txz, sz]])\n",
    "\n",
    "print(S)"
   ]
  },
  {
   "cell_type": "code",
   "execution_count": 21,
   "metadata": {
    "collapsed": false
   },
   "outputs": [
    {
     "name": "stdout",
     "output_type": "stream",
     "text": [
      "[   0.          -39.34404372  103.00404372]\n"
     ]
    }
   ],
   "source": [
    "principal_stresses = np.linalg.eigvals(S)\n",
    "print(principal_stresses)"
   ]
  },
  {
   "cell_type": "code",
   "execution_count": 22,
   "metadata": {
    "collapsed": false
   },
   "outputs": [
    {
     "data": {
      "image/png": "[encoded data removed]",
      "text/latex": [
       "$$\\left[\\begin{matrix}\\sigma_{11} & \\sigma_{12} & 0\\\\\\sigma_{12} & \\sigma_{22} & 0\\\\0 & 0 & \\sigma_{33}\\end{matrix}\\right]$$"
      ],
      "text/plain": [
       "⎡σ₁₁  σ₁₂   0 ⎤\n",
       "⎢             ⎥\n",
       "⎢σ₁₂  σ₂₂   0 ⎥\n",
       "⎢             ⎥\n",
       "⎣ 0    0   σ₃₃⎦"
      ]
     },
     "execution_count": 22,
     "metadata": {},
     "output_type": "execute_result"
    }
   ],
   "source": [
    "import sympy as sp\n",
    "from sympy.abc import tau, sigma\n",
    "#s,s11,s22,s33,s12 = sp.var('s,s11,s22,s33,s12')\n",
    "s,s11,s22,s33,s12,s13 = sp.symbols('sigma, sigma11,sigma22,sigma33,sigma12,sigma13')\n",
    "s = sp.Matrix([[s11,s12,0],[s12,s22,0],[0,0,s33]])\n",
    "s"
   ]
  },
  {
   "cell_type": "code",
   "execution_count": 23,
   "metadata": {
    "collapsed": false
   },
   "outputs": [
    {
     "data": {
      "image/png": "[encoded data removed]",
      "text/latex": [
       "$$\\left[\\begin{matrix}\\sigma_{11}^{2} + \\sigma_{12}^{2} & \\sigma_{11} \\sigma_{12} + \\sigma_{12} \\sigma_{22} & 0\\\\\\sigma_{11} \\sigma_{12} + \\sigma_{12} \\sigma_{22} & \\sigma_{12}^{2} + \\sigma_{22}^{2} & 0\\\\0 & 0 & \\sigma_{33}^{2}\\end{matrix}\\right]$$"
      ],
      "text/plain": [
       "⎡      2      2                            ⎤\n",
       "⎢   σ₁₁  + σ₁₂      σ₁₁⋅σ₁₂ + σ₁₂⋅σ₂₂   0  ⎥\n",
       "⎢                                          ⎥\n",
       "⎢                         2      2         ⎥\n",
       "⎢σ₁₁⋅σ₁₂ + σ₁₂⋅σ₂₂     σ₁₂  + σ₂₂       0  ⎥\n",
       "⎢                                          ⎥\n",
       "⎢                                         2⎥\n",
       "⎣        0                  0          σ₃₃ ⎦"
      ]
     },
     "execution_count": 23,
     "metadata": {},
     "output_type": "execute_result"
    }
   ],
   "source": [
    "s**2"
   ]
  },
  {
   "cell_type": "code",
   "execution_count": 24,
   "metadata": {
    "collapsed": false
   },
   "outputs": [
    {
     "data": {
      "image/png": "[encoded data removed]",
      "text/latex": [
       "$$\\left \\{ \\sigma_{33} : 1, \\quad \\frac{\\sigma_{11}}{2} + \\frac{\\sigma_{22}}{2} - \\frac{1}{2} \\sqrt{\\sigma_{11}^{2} - 2 \\sigma_{11} \\sigma_{22} + 4 \\sigma_{12}^{2} + \\sigma_{22}^{2}} : 1, \\quad \\frac{\\sigma_{11}}{2} + \\frac{\\sigma_{22}}{2} + \\frac{1}{2} \\sqrt{\\sigma_{11}^{2} - 2 \\sigma_{11} \\sigma_{22} + 4 \\sigma_{12}^{2} + \\sigma_{22}^{2}} : 1\\right \\}$$"
      ],
      "text/plain": [
       "⎧                       __________________________________                    \n",
       "⎪                      ╱    2                    2      2                    ╱\n",
       "⎨        σ₁₁   σ₂₂   ╲╱  σ₁₁  - 2⋅σ₁₁⋅σ₂₂ + 4⋅σ₁₂  + σ₂₂       σ₁₁   σ₂₂   ╲╱ \n",
       "⎪σ₃₃: 1, ─── + ─── - ─────────────────────────────────────: 1, ─── + ─── + ───\n",
       "⎩         2     2                      2                        2     2       \n",
       "\n",
       "__________________________________   ⎫\n",
       "    2                    2      2    ⎪\n",
       " σ₁₁  - 2⋅σ₁₁⋅σ₂₂ + 4⋅σ₁₂  + σ₂₂     ⎬\n",
       "──────────────────────────────────: 1⎪\n",
       "               2                     ⎭"
      ]
     },
     "execution_count": 24,
     "metadata": {},
     "output_type": "execute_result"
    }
   ],
   "source": [
    "s.eigenvals()  # hmm looks familiar"
   ]
  },
  {
   "cell_type": "code",
   "execution_count": 25,
   "metadata": {
    "collapsed": false
   },
   "outputs": [
    {
     "data": {
      "image/png": "[encoded data removed]",
      "text/latex": [
       "$$\\left[\\begin{matrix}2.2 & 7.3 & 0\\\\7.3 & 3 & 0\\\\0 & 0 & \\pi\\end{matrix}\\right]$$"
      ],
      "text/plain": [
       "⎡2.2  7.3  0⎤\n",
       "⎢           ⎥\n",
       "⎢7.3   3   0⎥\n",
       "⎢           ⎥\n",
       "⎣ 0    0   π⎦"
      ]
     },
     "execution_count": 25,
     "metadata": {},
     "output_type": "execute_result"
    }
   ],
   "source": [
    "s1 = s.subs(s11,2.2).subs(s22,3).subs(s33,sp.pi).subs(s12,7.3)\n",
    "s1"
   ]
  },
  {
   "cell_type": "code",
   "execution_count": 26,
   "metadata": {
    "collapsed": false
   },
   "outputs": [
    {
     "data": {
      "image/png": "[encoded data removed]",
      "text/latex": [
       "$$\\left[\\begin{matrix}2.2 & 7.3 & 0\\\\7.3 & 3.0 & 0\\\\0 & 0 & 3.14159265358979\\end{matrix}\\right]$$"
      ],
      "text/plain": [
       "⎡2.2  7.3         0        ⎤\n",
       "⎢                          ⎥\n",
       "⎢7.3  3.0         0        ⎥\n",
       "⎢                          ⎥\n",
       "⎣ 0    0   3.14159265358979⎦"
      ]
     },
     "execution_count": 26,
     "metadata": {},
     "output_type": "execute_result"
    }
   ],
   "source": [
    "# or \n",
    "s2 = s.evalf(subs={s11:2.2, s22:3, s33:sp.pi, s12:7.3})\n",
    "s2"
   ]
  },
  {
   "cell_type": "code",
   "execution_count": 27,
   "metadata": {
    "collapsed": false
   },
   "outputs": [
    {
     "data": {
      "image/png": "[encoded data removed]",
      "text/latex": [
       "$$\\left \\{ \\pi : 1, \\quad \\frac{13}{5} + \\frac{\\sqrt{5345}}{10} : 1, \\quad - \\frac{\\sqrt{5345}}{10} + \\frac{13}{5} : 1\\right \\}$$"
      ],
      "text/plain": [
       "⎧      13   √5345       √5345   13   ⎫\n",
       "⎨π: 1, ── + ─────: 1, - ───── + ──: 1⎬\n",
       "⎩      5      10          10    5    ⎭"
      ]
     },
     "execution_count": 27,
     "metadata": {},
     "output_type": "execute_result"
    }
   ],
   "source": [
    "s1.eigenvals()"
   ]
  },
  {
   "cell_type": "code",
   "execution_count": 28,
   "metadata": {
    "collapsed": false
   },
   "outputs": [
    {
     "data": {
      "image/png": "[encoded data removed]",
      "text/latex": [
       "$$\\left \\{ \\frac{314159265358979}{100000000000000} : 1, \\quad \\frac{13}{5} + \\frac{\\sqrt{5345}}{10} : 1, \\quad - \\frac{\\sqrt{5345}}{10} + \\frac{13}{5} : 1\\right \\}$$"
      ],
      "text/plain": [
       "⎧314159265358979     13   √5345       √5345   13   ⎫\n",
       "⎨───────────────: 1, ── + ─────: 1, - ───── + ──: 1⎬\n",
       "⎩100000000000000     5      10          10    5    ⎭"
      ]
     },
     "execution_count": 28,
     "metadata": {},
     "output_type": "execute_result"
    }
   ],
   "source": [
    "s2.eigenvals()"
   ]
  },
  {
   "cell_type": "code",
   "execution_count": 29,
   "metadata": {
    "collapsed": false
   },
   "outputs": [
    {
     "data": {
      "image/png": "[encoded data removed]",
      "text/latex": [
       "$$\\left[\\begin{matrix}-0.0642535874919684 & 0.156350396230456 & 0\\\\0.156350396230456 & -0.0471192974941101 & 0\\\\0 & 0 & 0.318309886183791\\end{matrix}\\right]$$"
      ],
      "text/plain": [
       "⎡-0.0642535874919684   0.156350396230456           0        ⎤\n",
       "⎢                                                           ⎥\n",
       "⎢ 0.156350396230456   -0.0471192974941101          0        ⎥\n",
       "⎢                                                           ⎥\n",
       "⎣         0                    0           0.318309886183791⎦"
      ]
     },
     "execution_count": 29,
     "metadata": {},
     "output_type": "execute_result"
    }
   ],
   "source": [
    "s2.inv()"
   ]
  },
  {
   "cell_type": "code",
   "execution_count": 30,
   "metadata": {
    "collapsed": false
   },
   "outputs": [
    {
     "data": {
      "image/png": "[encoded data removed]",
      "text/latex": [
       "$$\\left ( C_{1}, \\quad C_{2}, \\quad C_{3}, \\quad C_{4}, \\quad C_{5}, \\quad C_{6}, \\quad C_{7}, \\quad C_{8}, \\quad C_{9}, \\quad C_{10}, \\quad C_{11}, \\quad C_{12}, \\quad C_{13}, \\quad C_{14}, \\quad C_{15}, \\quad C_{16}, \\quad C_{17}, \\quad C_{18}, \\quad C_{19}, \\quad C_{20}, \\quad C_{21}, \\quad C_{22}, \\quad C_{23}, \\quad C_{24}, \\quad C_{25}, \\quad C_{26}, \\quad C_{27}, \\quad C_{28}, \\quad C_{29}, \\quad C_{30}, \\quad C_{31}, \\quad C_{32}, \\quad C_{33}, \\quad C_{34}, \\quad C_{35}, \\quad C_{36}, \\quad C_{37}, \\quad C_{38}, \\quad C_{39}, \\quad C_{40}, \\quad C_{41}, \\quad C_{42}, \\quad C_{43}, \\quad C_{44}, \\quad C_{45}, \\quad C_{46}, \\quad C_{47}, \\quad C_{48}, \\quad C_{49}, \\quad C_{50}, \\quad C_{51}, \\quad C_{52}, \\quad C_{53}, \\quad C_{54}, \\quad C_{55}, \\quad C_{56}, \\quad C_{57}, \\quad C_{58}, \\quad C_{59}, \\quad C_{60}, \\quad C_{61}, \\quad C_{62}, \\quad C_{63}, \\quad C_{64}, \\quad C_{65}, \\quad C_{66}, \\quad C_{67}, \\quad C_{68}, \\quad C_{69}, \\quad C_{70}, \\quad C_{71}, \\quad C_{72}, \\quad C_{73}, \\quad C_{74}, \\quad C_{75}, \\quad C_{76}, \\quad C_{77}, \\quad C_{78}, \\quad C_{79}, \\quad C_{80}, \\quad C_{81}, \\quad C_{82}, \\quad C_{83}, \\quad C_{84}, \\quad C_{85}, \\quad C_{86}, \\quad C_{87}, \\quad C_{88}, \\quad C_{89}, \\quad C_{90}, \\quad C_{91}, \\quad C_{92}, \\quad C_{93}, \\quad C_{94}, \\quad C_{95}, \\quad C_{96}, \\quad C_{97}, \\quad C_{98}, \\quad C_{99}\\right )$$"
      ],
      "text/plain": [
       "(C₁, C₂, C₃, C₄, C₅, C₆, C₇, C₈, C₉, C₁₀, C₁₁, C₁₂, C₁₃, C₁₄, C₁₅, C₁₆, C₁₇, C\n",
       "₁₈, C₁₉, C₂₀, C₂₁, C₂₂, C₂₃, C₂₄, C₂₅, C₂₆, C₂₇, C₂₈, C₂₉, C₃₀, C₃₁, C₃₂, C₃₃,\n",
       " C₃₄, C₃₅, C₃₆, C₃₇, C₃₈, C₃₉, C₄₀, C₄₁, C₄₂, C₄₃, C₄₄, C₄₅, C₄₆, C₄₇, C₄₈, C₄\n",
       "₉, C₅₀, C₅₁, C₅₂, C₅₃, C₅₄, C₅₅, C₅₆, C₅₇, C₅₈, C₅₉, C₆₀, C₆₁, C₆₂, C₆₃, C₆₄, \n",
       "C₆₅, C₆₆, C₆₇, C₆₈, C₆₉, C₇₀, C₇₁, C₇₂, C₇₃, C₇₄, C₇₅, C₇₆, C₇₇, C₇₈, C₇₉, C₈₀\n",
       ", C₈₁, C₈₂, C₈₃, C₈₄, C₈₅, C₈₆, C₈₇, C₈₈, C₈₉, C₉₀, C₉₁, C₉₂, C₉₃, C₉₄, C₉₅, C\n",
       "₉₆, C₉₇, C₉₈, C₉₉)"
      ]
     },
     "execution_count": 30,
     "metadata": {},
     "output_type": "execute_result"
    }
   ],
   "source": [
    "C = sp.symbols('C1:100')\n",
    "C"
   ]
  },
  {
   "cell_type": "code",
   "execution_count": null,
   "metadata": {
    "collapsed": true
   },
   "outputs": [],
   "source": []
  }
 ],
 "metadata": {
  "kernelspec": {
   "display_name": "Python [default]",
   "language": "python",
   "name": "python3"
  },
  "language_info": {
   "codemirror_mode": {
    "name": "ipython",
    "version": 3
   },
   "file_extension": ".py",
   "mimetype": "text/x-python",
   "name": "python",
   "nbconvert_exporter": "python",
   "pygments_lexer": "ipython3",
   "version": "3.5.2"
  }
 },
 "nbformat": 4,
 "nbformat_minor": 0
}
