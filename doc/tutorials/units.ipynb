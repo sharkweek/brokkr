{
 "cells": [
  {
   "cell_type": "markdown",
   "metadata": {},
   "source": [
    "- - - -\n",
    "# Mechpy Tutorials\n",
    "a mechanical engineering toolbox\n",
    "\n",
    "source code - https://github.com/nagordon/mechpy  \n",
    "documentation - https://nagordon.github.io/mechpy/ \n",
    "\n",
    "- - - -\n",
    "\n",
    "Neal Gordon  \n",
    "2017-02-20  \n",
    "\n",
    "- - - -\n",
    "\n",
    "\n",
    "## Units\n",
    "\n",
    "Neal Gordon  \n",
    "2017-2-20  \n",
    "\n",
    "Not a lot of effort was put towards make a new units module because there are already some good ones out there. This is bascially a demo of them, and can be bundled into an executable so that python isn't required.\n",
    "This demo of the units module is a few different attempts at creating a fast, converter for units. unitconvert1 function or `uc1` uses the [sympy.physics package](http://docs.sympy.org/dev/modules/physics/units.html). The `uc2` package uses the [pint module](https://pint.readthedocs.org/en/0.6/tutorial.html). And `uc3` uses the [python-quantities package ](https://github.com/python-quantities/python-quantities). "
   ]
  },
  {
   "cell_type": "code",
   "execution_count": 3,
   "metadata": {
    "collapsed": false
   },
   "outputs": [],
   "source": [
    "from units import uc1, uc3\n",
    "# uc1 uses sympy"
   ]
  },
  {
   "cell_type": "code",
   "execution_count": 4,
   "metadata": {
    "collapsed": false
   },
   "outputs": [
    {
     "name": "stdout",
     "output_type": "stream",
     "text": [
      "1.00 psi = 6.89  kPa \n"
     ]
    }
   ],
   "source": [
    "uc1(1.0,'psi','kPa')"
   ]
  },
  {
   "cell_type": "code",
   "execution_count": 5,
   "metadata": {
    "collapsed": false
   },
   "outputs": [
    {
     "name": "stdout",
     "output_type": "stream",
     "text": [
      "1.00 newton = 0.22  pound \n"
     ]
    }
   ],
   "source": [
    "uc1(1.0,'newton','pound')"
   ]
  },
  {
   "cell_type": "code",
   "execution_count": 6,
   "metadata": {
    "collapsed": false
   },
   "outputs": [
    {
     "name": "stdout",
     "output_type": "stream",
     "text": [
      "Help on function uc3 in module units:\n",
      "\n",
      "uc3(numin, frm, to)\n",
      "    quantities\n",
      "    uc3 - unit convert 3\n",
      "    https://github.com/python-quantities/python-quantities\n",
      "    https://pythonhosted.org/quantities/user/tutorial.html\n",
      "    \n",
      "    see here for details on all units \n",
      "    https://github.com/python-quantities/python-quantities/tree/master/quantities/units\n",
      "    \n",
      "    uc3(1,'inch','ft')\n",
      "    \n",
      "    angle\n",
      "       radian/rad, turn/cycle, deg/degree\n",
      "      \n",
      "    distance\n",
      "       inch/in, feet/ft, m/meter, mil/thou, mile/mi,, yard/yd, fathom, light_year, kilometer/km, nautical_mile/nmi\n",
      "    \n",
      "    temperature\n",
      "        celsius/degC, fahrenheit/degF, kelvin/degK\n",
      "    \n",
      "    force\n",
      "        newton/N, ozf/fource_ounce, lbf/pound_force\n",
      "    \n",
      "    pressure\n",
      "        pascal/Pa, kilopascal/kPa, psi, mmHg\n",
      "    \n",
      "    energy\n",
      "        cal/calorie, J/joule, btu, ton_TNT, kWh/kilowatthour\n",
      "    \n",
      "    power\n",
      "        watt/W, horsepower/hp\n",
      "\n"
     ]
    }
   ],
   "source": [
    "help(uc3)"
   ]
  },
  {
   "cell_type": "code",
   "execution_count": 7,
   "metadata": {
    "collapsed": false
   },
   "outputs": [
    {
     "name": "stdout",
     "output_type": "stream",
     "text": [
      "1.0000 ft = 1.0000  ft \n",
      "1.0000 ft = 0.3048  meter \n",
      "1.0000 ft = 12000.0000  mil \n",
      "1.0000 ft = 0.0002  mile \n",
      "1.0000 ft = 12.0000  inch \n",
      "1.0000 ft = 0.3333  yard \n",
      "1.0000 ft = 0.1667  fathom \n",
      "1.0000 ft = 0.0000  light_year \n"
     ]
    }
   ],
   "source": [
    "for d in ['ft', 'meter', 'mil', 'mile','inch', 'yard', 'fathom', 'light_year']:\n",
    "    uc3(1,'ft',d)"
   ]
  },
  {
   "cell_type": "code",
   "execution_count": 8,
   "metadata": {
    "collapsed": false
   },
   "outputs": [
    {
     "name": "stdout",
     "output_type": "stream",
     "text": [
      "1.0000 psi = 6.8948  kPa \n"
     ]
    }
   ],
   "source": [
    "uc3(1,'psi','kPa')"
   ]
  },
  {
   "cell_type": "code",
   "execution_count": 9,
   "metadata": {
    "collapsed": false
   },
   "outputs": [
    {
     "name": "stdout",
     "output_type": "stream",
     "text": [
      "     0 in - 0.000000 in - 0.000000 mm \n",
      "  1/16 in - 0.062500 in - 1.587500 mm \n",
      "   1/8 in - 0.125000 in - 3.175000 mm \n",
      "  3/16 in - 0.187500 in - 4.762500 mm \n",
      "   1/4 in - 0.250000 in - 6.350000 mm \n",
      "  5/16 in - 0.312500 in - 7.937500 mm \n",
      "   3/8 in - 0.375000 in - 9.525000 mm \n",
      "  7/16 in - 0.437500 in - 11.112500 mm \n",
      "   1/2 in - 0.500000 in - 12.700000 mm \n",
      "  9/16 in - 0.562500 in - 14.287500 mm \n",
      "   5/8 in - 0.625000 in - 15.875000 mm \n",
      " 11/16 in - 0.687500 in - 17.462500 mm \n",
      "   3/4 in - 0.750000 in - 19.050000 mm \n",
      " 13/16 in - 0.812500 in - 20.637500 mm \n",
      "   7/8 in - 0.875000 in - 22.225000 mm \n",
      " 15/16 in - 0.937500 in - 23.812500 mm \n",
      "     1 in - 1.000000 in - 25.400000 mm \n"
     ]
    }
   ],
   "source": [
    "from units import in_mm\n",
    "in_mm()"
   ]
  },
  {
   "cell_type": "code",
   "execution_count": null,
   "metadata": {
    "collapsed": true
   },
   "outputs": [],
   "source": []
  }
 ],
 "metadata": {
  "anaconda-cloud": {},
  "kernelspec": {
   "display_name": "Python [default]",
   "language": "python",
   "name": "python3"
  },
  "language_info": {
   "codemirror_mode": {
    "name": "ipython",
    "version": 3
   },
   "file_extension": ".py",
   "mimetype": "text/x-python",
   "name": "python",
   "nbconvert_exporter": "python",
   "pygments_lexer": "ipython3",
   "version": "3.5.2"
  }
 },
 "nbformat": 4,
 "nbformat_minor": 0
}
