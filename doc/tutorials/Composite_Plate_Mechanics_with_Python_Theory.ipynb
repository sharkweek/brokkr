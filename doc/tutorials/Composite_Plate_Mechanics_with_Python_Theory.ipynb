{
 "cells": [
  {
   "cell_type": "markdown",
   "metadata": {},
   "source": [
    "- - - -\n",
    "# Mechpy Tutorials\n",
    "a mechanical engineering toolbox\n",
    "\n",
    "source code - https://github.com/nagordon/mechpy  \n",
    "documentation - https://nagordon.github.io/mechpy/web/  \n",
    "\n",
    "- - - -\n",
    "\n",
    "Neal Gordon  \n",
    "2017-02-20  \n",
    "\n",
    "- - - -\n",
    "\n",
    "\n",
    "\n",
    "## Composite Plate Mechanics with Python\n",
    "\n",
    "reference: hyer page 584. 617\n",
    "\n",
    "The motivation behind this talk is to explore the capability of python as a scientific computation tool as well as solve a typical calcuation that could either be done by hand, or coded. I find coding to be a convient way to learn challenging mathmatics because I can easily replicate my work in the future when I can't remember the details of the calcuation or, if there are any errors, they can typically be easily fixed and the other calcuations re-ran without a lot of duplcation of effort.\n",
    "\n",
    "Composite mechanics can be very iterative by nature and is easiest to employ linear algebra to find displacements, strains and stresses of composites. Coding solutions is also handy when visualizations are required.\n",
    "\n",
    "For this example, we are interested in calcuating the stress critical ply in a simple asymteric composite plate with a pressure load applied. We can chooose a variety of boundary conditions of our plate, but this solution is limited to 2 dimensional displacements, x and z. If we are interested in 3 dimensional displacements, the problem becomes much more challenging as partial differentiation of the governing equations gives us a PDE, which is more challenging to solve. \n",
    "\n",
    "The steps to solving are \n",
    "- Identify governing and equilibrium equations\n",
    "- import python required libraries \n",
    "- declare symbolic variables\n",
    "- declare numeric variables, including material properties, plate dimensions, and plate pressure\n",
    "- solve 4th order differntial equation with 7 constants\n",
    "- apply plate boundary conditions and acquire u(x) and w(x) displacement functions\n",
    "- acquire strain equations from displacement\n",
    "- acquire stress equations from strain\n",
    "- determine critical ply from highest ply stress ratio\n",
    "\n"
   ]
  },
  {
   "cell_type": "code",
   "execution_count": 1,
   "metadata": {
    "collapsed": false
   },
   "outputs": [],
   "source": [
    "# Import Python modules and \n",
    "import numpy as np\n",
    "from sympy import *\n",
    "from pprint import pprint\n",
    "\n",
    "# printing and plotting settings \n",
    "init_printing(use_latex='mathjax')\n",
    "get_ipython().magic('matplotlib inline') # inline plotting\n",
    "\n",
    "x,y,q = symbols('x,y,q')"
   ]
  },
  {
   "cell_type": "markdown",
   "metadata": {},
   "source": [
    "As mentioned before, if we want to perform a 3 dimensional displacement model of the composite plate, we would have 6 reaction forces that are a function of x and y. Those 6 reaction forces are related by 3 equalibrium equations"
   ]
  },
  {
   "cell_type": "code",
   "execution_count": 3,
   "metadata": {
    "collapsed": false
   },
   "outputs": [],
   "source": [
    "# # hyer page 584\n",
    "# # Equations of equilibrium\n",
    "# Nxf = Function('N_x')(x,y)\n",
    "# Nyf = Function('N_y')(x,y)\n",
    "# Nxyf = Function('N_xy')(x,y)\n",
    "# Mxf = Function('M_x')(x,y)\n",
    "# Myf = Function('M_y')(x,y)\n",
    "# Mxyf = Function('M_xy')(x,y)\n",
    "\n",
    "# symbols for force and moments\n",
    "Nx,Ny,Nxy,Mx,My,Mxy = symbols('N_x,N_y,N_xy,M_x,M_y,M_xy')\n",
    "Nxf,Nyf,Nxyf,Mxf,Myf,Mxyf = symbols('Nxf,Nyf,Nxyf,Mxf,Myf,Mxyf')"
   ]
  },
  {
   "cell_type": "code",
   "execution_count": 4,
   "metadata": {
    "collapsed": false
   },
   "outputs": [
    {
     "data": {
      "text/latex": [
       "$$0 = \\frac{\\partial}{\\partial x} \\operatorname{N_{x}}{\\left (x,y \\right )} + \\frac{\\partial}{\\partial y} \\operatorname{N_{xy}}{\\left (x,y \\right )}$$"
      ],
      "text/plain": [
       "    ∂              ∂             \n",
       "0 = ──(Nₓ(x, y)) + ──(N_xy(x, y))\n",
       "    ∂x             ∂y            "
      ]
     },
     "execution_count": 4,
     "metadata": {},
     "output_type": "execute_result"
    }
   ],
   "source": [
    "Eq(0,diff(Nx(x,y), x)+diff(Nxy(x,y),y))"
   ]
  },
  {
   "cell_type": "code",
   "execution_count": 5,
   "metadata": {
    "collapsed": false
   },
   "outputs": [
    {
     "data": {
      "text/latex": [
       "$$0 = \\frac{\\partial}{\\partial x} \\operatorname{N_{xy}}{\\left (x,y \\right )} + \\frac{\\partial}{\\partial y} \\operatorname{N_{y}}{\\left (x,y \\right )}$$"
      ],
      "text/plain": [
       "    ∂                ∂            \n",
       "0 = ──(N_xy(x, y)) + ──(N_y(x, y))\n",
       "    ∂x               ∂y           "
      ]
     },
     "execution_count": 5,
     "metadata": {},
     "output_type": "execute_result"
    }
   ],
   "source": [
    "Eq(0,diff(Nxy(x,y), x)+diff(Ny(x,y),y))"
   ]
  },
  {
   "cell_type": "code",
   "execution_count": 6,
   "metadata": {
    "collapsed": false
   },
   "outputs": [
    {
     "data": {
      "text/latex": [
       "$$0 = q + \\frac{\\partial^{2}}{\\partial x^{2}}  \\operatorname{M_{x}}{\\left (x,y \\right )} + 2 \\frac{\\partial^{2}}{\\partial x\\partial y}  \\operatorname{M_{xy}}{\\left (x,y \\right )} + \\frac{\\partial^{2}}{\\partial y^{2}}  \\operatorname{M_{y}}{\\left (x,y \\right )}$$"
      ],
      "text/plain": [
       "          2                  2                  2           \n",
       "         ∂                  ∂                  ∂            \n",
       "0 = q + ───(Mₓ(x, y)) + 2⋅─────(M_xy(x, y)) + ───(M_y(x, y))\n",
       "          2               ∂y ∂x                 2           \n",
       "        ∂x                                    ∂y            "
      ]
     },
     "execution_count": 6,
     "metadata": {},
     "output_type": "execute_result"
    }
   ],
   "source": [
    "Eq(0,  diff(Mx(x,y),x,2) + 2*diff(Mxy(x,y),x,y) + diff(My(x,y) ,y,2)+ q  )"
   ]
  },
  {
   "cell_type": "markdown",
   "metadata": {},
   "source": [
    "What makes composite plates special is the fact that they typically not isotropic. This is handled by the 6x6 ABD matrix that defines the composites properties axially, in bending, and the coupling between the two."
   ]
  },
  {
   "cell_type": "code",
   "execution_count": 7,
   "metadata": {
    "collapsed": true
   },
   "outputs": [],
   "source": [
    "# composite properties \n",
    "A11,A22,A66,A12,A16,A26,A66 = symbols('A11,A22,A66,A12,A16,A26,A66')\n",
    "B11,B22,B66,B12,B16,B26,B66 = symbols('B11,B22,B66,B12,B16,B26,B66')\n",
    "D11,D22,D66,D12,D16,D26,D66 = symbols('D11,D22,D66,D12,D16,D26,D66')\n",
    "\n",
    "## constants of integration when solving differential equation\n",
    "C1,C2,C3,C4,C5,C6 = symbols('C1,C2,C3,C4,C5,C6')\n",
    "\n",
    "# plate and composite parameters\n",
    "th,a,b = symbols('th,a,b')\n",
    "\n",
    "# displacement functions\n",
    "u0 = Function('u0')(x,y)\n",
    "v0 = Function('v0')(x,y)\n",
    "w0 = Function('w0')(x,y)"
   ]
  },
  {
   "cell_type": "markdown",
   "metadata": {},
   "source": [
    "Let's compute our 6 displacement conditions which is where our PDE's show up"
   ]
  },
  {
   "cell_type": "code",
   "execution_count": 8,
   "metadata": {
    "collapsed": false
   },
   "outputs": [
    {
     "data": {
      "text/latex": [
       "$$N_{x} = A_{11} \\frac{\\partial}{\\partial x} \\operatorname{u_{0}}{\\left (x,y \\right )} + A_{12} \\frac{\\partial}{\\partial y} \\operatorname{v_{0}}{\\left (x,y \\right )} + A_{16} \\left(\\frac{\\partial}{\\partial y} \\operatorname{u_{0}}{\\left (x,y \\right )} + \\frac{\\partial}{\\partial x} \\operatorname{v_{0}}{\\left (x,y \\right )}\\right) - B_{11} \\frac{\\partial^{2}}{\\partial x^{2}}  \\operatorname{w_{0}}{\\left (x,y \\right )} - B_{12} \\frac{\\partial^{2}}{\\partial y^{2}}  \\operatorname{w_{0}}{\\left (x,y \\right )} - 2 B_{16} \\frac{\\partial^{2}}{\\partial x\\partial y}  \\operatorname{w_{0}}{\\left (x,y \\right )}$$"
      ],
      "text/plain": [
       "                                                                              \n",
       "         ∂                  ∂                  ⎛∂              ∂           ⎞  \n",
       "Nₓ = A₁₁⋅──(u₀(x, y)) + A₁₂⋅──(v₀(x, y)) + A₁₆⋅⎜──(u₀(x, y)) + ──(v₀(x, y))⎟ -\n",
       "         ∂x                 ∂y                 ⎝∂y             ∂x          ⎠  \n",
       "                                                                              \n",
       "\n",
       "       2                   2                      2           \n",
       "      ∂                   ∂                      ∂            \n",
       " B₁₁⋅───(w₀(x, y)) - B₁₂⋅───(w₀(x, y)) - 2⋅B₁₆⋅─────(w₀(x, y))\n",
       "       2                   2                   ∂y ∂x          \n",
       "     ∂x                  ∂y                                   "
      ]
     },
     "execution_count": 8,
     "metadata": {},
     "output_type": "execute_result"
    }
   ],
   "source": [
    "Nxf = A11*diff(u0,x) + A12*diff(v0,y) + A16*(diff(u0,y) + diff(v0,x)) - B11*diff(w0,x,2) - B12*diff(w0,y,2) - 2*B16*diff(w0,x,y)\n",
    "Eq(Nx, Nxf)"
   ]
  },
  {
   "cell_type": "code",
   "execution_count": 9,
   "metadata": {
    "collapsed": false
   },
   "outputs": [
    {
     "data": {
      "text/latex": [
       "$$N_{y} = A_{12} \\frac{\\partial}{\\partial x} \\operatorname{u_{0}}{\\left (x,y \\right )} + A_{22} \\frac{\\partial}{\\partial y} \\operatorname{v_{0}}{\\left (x,y \\right )} + A_{26} \\left(\\frac{\\partial}{\\partial y} \\operatorname{u_{0}}{\\left (x,y \\right )} + \\frac{\\partial}{\\partial x} \\operatorname{v_{0}}{\\left (x,y \\right )}\\right) - B_{12} \\frac{\\partial^{2}}{\\partial x^{2}}  \\operatorname{w_{0}}{\\left (x,y \\right )} - B_{22} \\frac{\\partial^{2}}{\\partial y^{2}}  \\operatorname{w_{0}}{\\left (x,y \\right )} - 2 B_{26} \\frac{\\partial^{2}}{\\partial x\\partial y}  \\operatorname{w_{0}}{\\left (x,y \\right )}$$"
      ],
      "text/plain": [
       "                                                                              \n",
       "          ∂                  ∂                  ⎛∂              ∂           ⎞ \n",
       "N_y = A₁₂⋅──(u₀(x, y)) + A₂₂⋅──(v₀(x, y)) + A₂₆⋅⎜──(u₀(x, y)) + ──(v₀(x, y))⎟ \n",
       "          ∂x                 ∂y                 ⎝∂y             ∂x          ⎠ \n",
       "                                                                              \n",
       "\n",
       "        2                   2                      2           \n",
       "       ∂                   ∂                      ∂            \n",
       "- B₁₂⋅───(w₀(x, y)) - B₂₂⋅───(w₀(x, y)) - 2⋅B₂₆⋅─────(w₀(x, y))\n",
       "        2                   2                   ∂y ∂x          \n",
       "      ∂x                  ∂y                                   "
      ]
     },
     "execution_count": 9,
     "metadata": {},
     "output_type": "execute_result"
    }
   ],
   "source": [
    "Nyf = A12*diff(u0,x) + A22*diff(v0,y) + A26*(diff(u0,y) + diff(v0,x)) - B12*diff(w0,x,2) - B22*diff(w0,y,2) - 2*B26*diff(w0,x,y)\n",
    "Eq(Ny,Nyf)"
   ]
  },
  {
   "cell_type": "code",
   "execution_count": 10,
   "metadata": {
    "collapsed": false
   },
   "outputs": [
    {
     "data": {
      "text/latex": [
       "$$N_{xy} = A_{16} \\frac{\\partial}{\\partial x} \\operatorname{u_{0}}{\\left (x,y \\right )} + A_{26} \\frac{\\partial}{\\partial y} \\operatorname{v_{0}}{\\left (x,y \\right )} + A_{66} \\left(\\frac{\\partial}{\\partial y} \\operatorname{u_{0}}{\\left (x,y \\right )} + \\frac{\\partial}{\\partial x} \\operatorname{v_{0}}{\\left (x,y \\right )}\\right) - B_{16} \\frac{\\partial^{2}}{\\partial x^{2}}  \\operatorname{w_{0}}{\\left (x,y \\right )} - B_{26} \\frac{\\partial^{2}}{\\partial y^{2}}  \\operatorname{w_{0}}{\\left (x,y \\right )} - 2 B_{66} \\frac{\\partial^{2}}{\\partial x\\partial y}  \\operatorname{w_{0}}{\\left (x,y \\right )}$$"
      ],
      "text/plain": [
       "                                                                              \n",
       "           ∂                  ∂                  ⎛∂              ∂           ⎞\n",
       "N_xy = A₁₆⋅──(u₀(x, y)) + A₂₆⋅──(v₀(x, y)) + A₆₆⋅⎜──(u₀(x, y)) + ──(v₀(x, y))⎟\n",
       "           ∂x                 ∂y                 ⎝∂y             ∂x          ⎠\n",
       "                                                                              \n",
       "\n",
       "         2                   2                      2           \n",
       "        ∂                   ∂                      ∂            \n",
       " - B₁₆⋅───(w₀(x, y)) - B₂₆⋅───(w₀(x, y)) - 2⋅B₆₆⋅─────(w₀(x, y))\n",
       "         2                   2                   ∂y ∂x          \n",
       "       ∂x                  ∂y                                   "
      ]
     },
     "execution_count": 10,
     "metadata": {},
     "output_type": "execute_result"
    }
   ],
   "source": [
    "Nxyf = A16*diff(u0,x) + A26*diff(v0,y) + A66*(diff(u0,y) + diff(v0,x)) - B16*diff(w0,x,2) - B26*diff(w0,y,2) - 2*B66*diff(w0,x,y) \n",
    "Eq(Nxy,Nxyf)"
   ]
  },
  {
   "cell_type": "code",
   "execution_count": 11,
   "metadata": {
    "collapsed": false
   },
   "outputs": [
    {
     "data": {
      "text/latex": [
       "$$M_{x} = B_{11} \\frac{\\partial}{\\partial x} \\operatorname{u_{0}}{\\left (x,y \\right )} + B_{12} \\frac{\\partial}{\\partial y} \\operatorname{v_{0}}{\\left (x,y \\right )} + B_{16} \\left(\\frac{\\partial}{\\partial y} \\operatorname{u_{0}}{\\left (x,y \\right )} + \\frac{\\partial}{\\partial x} \\operatorname{v_{0}}{\\left (x,y \\right )}\\right) - D_{11} \\frac{\\partial^{2}}{\\partial x^{2}}  \\operatorname{w_{0}}{\\left (x,y \\right )} - D_{12} \\frac{\\partial^{2}}{\\partial y^{2}}  \\operatorname{w_{0}}{\\left (x,y \\right )} - 2 D_{16} \\frac{\\partial^{2}}{\\partial x\\partial y}  \\operatorname{w_{0}}{\\left (x,y \\right )}$$"
      ],
      "text/plain": [
       "                                                                              \n",
       "         ∂                  ∂                  ⎛∂              ∂           ⎞  \n",
       "Mₓ = B₁₁⋅──(u₀(x, y)) + B₁₂⋅──(v₀(x, y)) + B₁₆⋅⎜──(u₀(x, y)) + ──(v₀(x, y))⎟ -\n",
       "         ∂x                 ∂y                 ⎝∂y             ∂x          ⎠  \n",
       "                                                                              \n",
       "\n",
       "       2                   2                      2           \n",
       "      ∂                   ∂                      ∂            \n",
       " D₁₁⋅───(w₀(x, y)) - D₁₂⋅───(w₀(x, y)) - 2⋅D₁₆⋅─────(w₀(x, y))\n",
       "       2                   2                   ∂y ∂x          \n",
       "     ∂x                  ∂y                                   "
      ]
     },
     "execution_count": 11,
     "metadata": {},
     "output_type": "execute_result"
    }
   ],
   "source": [
    "Mxf = B11*diff(u0,x) + B12*diff(v0,y) + B16*(diff(u0,y) + diff(v0,x)) - D11*diff(w0,x,2) - D12*diff(w0,y,2) - 2*D16*diff(w0,x,y)\n",
    "Eq(Mx,Mxf)"
   ]
  },
  {
   "cell_type": "code",
   "execution_count": 12,
   "metadata": {
    "collapsed": false
   },
   "outputs": [
    {
     "data": {
      "text/latex": [
       "$$M_{y} = B_{12} \\frac{\\partial}{\\partial x} \\operatorname{u_{0}}{\\left (x,y \\right )} + B_{22} \\frac{\\partial}{\\partial y} \\operatorname{v_{0}}{\\left (x,y \\right )} + B_{26} \\left(\\frac{\\partial}{\\partial y} \\operatorname{u_{0}}{\\left (x,y \\right )} + \\frac{\\partial}{\\partial x} \\operatorname{v_{0}}{\\left (x,y \\right )}\\right) - D_{12} \\frac{\\partial^{2}}{\\partial x^{2}}  \\operatorname{w_{0}}{\\left (x,y \\right )} - D_{22} \\frac{\\partial^{2}}{\\partial y^{2}}  \\operatorname{w_{0}}{\\left (x,y \\right )} - 2 D_{26} \\frac{\\partial^{2}}{\\partial x\\partial y}  \\operatorname{w_{0}}{\\left (x,y \\right )}$$"
      ],
      "text/plain": [
       "                                                                              \n",
       "          ∂                  ∂                  ⎛∂              ∂           ⎞ \n",
       "M_y = B₁₂⋅──(u₀(x, y)) + B₂₂⋅──(v₀(x, y)) + B₂₆⋅⎜──(u₀(x, y)) + ──(v₀(x, y))⎟ \n",
       "          ∂x                 ∂y                 ⎝∂y             ∂x          ⎠ \n",
       "                                                                              \n",
       "\n",
       "        2                   2                      2           \n",
       "       ∂                   ∂                      ∂            \n",
       "- D₁₂⋅───(w₀(x, y)) - D₂₂⋅───(w₀(x, y)) - 2⋅D₂₆⋅─────(w₀(x, y))\n",
       "        2                   2                   ∂y ∂x          \n",
       "      ∂x                  ∂y                                   "
      ]
     },
     "execution_count": 12,
     "metadata": {},
     "output_type": "execute_result"
    }
   ],
   "source": [
    "Myf = B12*diff(u0,x) + B22*diff(v0,y) + B26*(diff(u0,y) + diff(v0,x)) - D12*diff(w0,x,2) - D22*diff(w0,y,2) - 2*D26*diff(w0,x,y)\n",
    "Eq(My,Myf)"
   ]
  },
  {
   "cell_type": "code",
   "execution_count": 13,
   "metadata": {
    "collapsed": false
   },
   "outputs": [
    {
     "data": {
      "text/latex": [
       "$$M_{xy} = B_{16} \\frac{\\partial}{\\partial x} \\operatorname{u_{0}}{\\left (x,y \\right )} + B_{26} \\frac{\\partial}{\\partial y} \\operatorname{v_{0}}{\\left (x,y \\right )} + B_{66} \\left(\\frac{\\partial}{\\partial y} \\operatorname{u_{0}}{\\left (x,y \\right )} + \\frac{\\partial}{\\partial x} \\operatorname{v_{0}}{\\left (x,y \\right )}\\right) - D_{16} \\frac{\\partial^{2}}{\\partial x^{2}}  \\operatorname{w_{0}}{\\left (x,y \\right )} - D_{26} \\frac{\\partial^{2}}{\\partial y^{2}}  \\operatorname{w_{0}}{\\left (x,y \\right )} - 2 D_{66} \\frac{\\partial^{2}}{\\partial x\\partial y}  \\operatorname{w_{0}}{\\left (x,y \\right )}$$"
      ],
      "text/plain": [
       "                                                                              \n",
       "           ∂                  ∂                  ⎛∂              ∂           ⎞\n",
       "M_xy = B₁₆⋅──(u₀(x, y)) + B₂₆⋅──(v₀(x, y)) + B₆₆⋅⎜──(u₀(x, y)) + ──(v₀(x, y))⎟\n",
       "           ∂x                 ∂y                 ⎝∂y             ∂x          ⎠\n",
       "                                                                              \n",
       "\n",
       "         2                   2                      2           \n",
       "        ∂                   ∂                      ∂            \n",
       " - D₁₆⋅───(w₀(x, y)) - D₂₆⋅───(w₀(x, y)) - 2⋅D₆₆⋅─────(w₀(x, y))\n",
       "         2                   2                   ∂y ∂x          \n",
       "       ∂x                  ∂y                                   "
      ]
     },
     "execution_count": 13,
     "metadata": {},
     "output_type": "execute_result"
    }
   ],
   "source": [
    "Mxyf = B16*diff(u0,x) + B26*diff(v0,y) + B66*(diff(u0,y) + diff(v0,x)) - D16*diff(w0,x,2) - D26*diff(w0,y,2) - 2*D66*diff(w0,x,y)\n",
    "Eq(Mxy,Mxyf)"
   ]
  },
  {
   "cell_type": "markdown",
   "metadata": {},
   "source": [
    "Now, combine our 6 displacement conditions with our 3 equalibrium equations to get three goverening equations"
   ]
  },
  {
   "cell_type": "code",
   "execution_count": 14,
   "metadata": {
    "collapsed": false
   },
   "outputs": [
    {
     "data": {
      "text/latex": [
       "$$A_{11} \\frac{\\partial^{2}}{\\partial x^{2}}  \\operatorname{u_{0}}{\\left (x,y \\right )} + A_{11} \\frac{\\partial^{2}}{\\partial x\\partial y}  \\operatorname{u_{0}}{\\left (x,y \\right )} + A_{12} \\frac{\\partial^{2}}{\\partial x\\partial y}  \\operatorname{v_{0}}{\\left (x,y \\right )} + A_{12} \\frac{\\partial^{2}}{\\partial y^{2}}  \\operatorname{v_{0}}{\\left (x,y \\right )} + A_{16} \\left(\\frac{\\partial^{2}}{\\partial x\\partial y}  \\operatorname{u_{0}}{\\left (x,y \\right )} + \\frac{\\partial^{2}}{\\partial x^{2}}  \\operatorname{v_{0}}{\\left (x,y \\right )}\\right) + A_{16} \\left(\\frac{\\partial^{2}}{\\partial y^{2}}  \\operatorname{u_{0}}{\\left (x,y \\right )} + \\frac{\\partial^{2}}{\\partial x\\partial y}  \\operatorname{v_{0}}{\\left (x,y \\right )}\\right) - B_{11} \\frac{\\partial^{3}}{\\partial x^{3}}  \\operatorname{w_{0}}{\\left (x,y \\right )} - B_{11} \\frac{\\partial^{3}}{\\partial x^{2}\\partial y}  \\operatorname{w_{0}}{\\left (x,y \\right )} - B_{12} \\frac{\\partial^{3}}{\\partial x\\partial y^{2}}  \\operatorname{w_{0}}{\\left (x,y \\right )} - B_{12} \\frac{\\partial^{3}}{\\partial y^{3}}  \\operatorname{w_{0}}{\\left (x,y \\right )} - 2 B_{16} \\frac{\\partial^{3}}{\\partial x^{2}\\partial y}  \\operatorname{w_{0}}{\\left (x,y \\right )} - 2 B_{16} \\frac{\\partial^{3}}{\\partial x\\partial y^{2}}  \\operatorname{w_{0}}{\\left (x,y \\right )}$$"
      ],
      "text/plain": [
       "      2                    2                     2                    2       \n",
       "     ∂                    ∂                     ∂                    ∂        \n",
       "A₁₁⋅───(u₀(x, y)) + A₁₁⋅─────(u₀(x, y)) + A₁₂⋅─────(v₀(x, y)) + A₁₂⋅───(v₀(x, \n",
       "      2                 ∂y ∂x                 ∂y ∂x                   2       \n",
       "    ∂x                                                              ∂y        \n",
       "\n",
       "          ⎛   2                2          ⎞       ⎛  2                2       \n",
       "          ⎜  ∂                ∂           ⎟       ⎜ ∂                ∂        \n",
       "y)) + A₁₆⋅⎜─────(u₀(x, y)) + ───(v₀(x, y))⎟ + A₁₆⋅⎜───(u₀(x, y)) + ─────(v₀(x,\n",
       "          ⎜∂y ∂x               2          ⎟       ⎜  2             ∂y ∂x      \n",
       "          ⎝                  ∂x           ⎠       ⎝∂y                         \n",
       "\n",
       "    ⎞         3                    3                      3                   \n",
       "    ⎟        ∂                    ∂                      ∂                    \n",
       " y))⎟ - B₁₁⋅───(w₀(x, y)) - B₁₁⋅──────(w₀(x, y)) - B₁₂⋅──────(w₀(x, y)) - B₁₂⋅\n",
       "    ⎟         3                      2                   2                    \n",
       "    ⎠       ∂x                  ∂y ∂x                  ∂y  ∂x                 \n",
       "\n",
       "  3                      3                        3            \n",
       " ∂                      ∂                        ∂             \n",
       "───(w₀(x, y)) - 2⋅B₁₆⋅──────(w₀(x, y)) - 2⋅B₁₆⋅──────(w₀(x, y))\n",
       "  3                        2                     2             \n",
       "∂y                    ∂y ∂x                    ∂y  ∂x          "
      ]
     },
     "execution_count": 14,
     "metadata": {},
     "output_type": "execute_result"
    }
   ],
   "source": [
    "eq1 = diff(Nxf,x) + diff(Nxf,y)\n",
    "eq1"
   ]
  },
  {
   "cell_type": "code",
   "execution_count": 15,
   "metadata": {
    "collapsed": false
   },
   "outputs": [
    {
     "data": {
      "text/latex": [
       "$$A_{12} \\frac{\\partial^{2}}{\\partial x\\partial y}  \\operatorname{u_{0}}{\\left (x,y \\right )} + A_{16} \\frac{\\partial^{2}}{\\partial x^{2}}  \\operatorname{u_{0}}{\\left (x,y \\right )} + A_{22} \\frac{\\partial^{2}}{\\partial y^{2}}  \\operatorname{v_{0}}{\\left (x,y \\right )} + A_{26} \\left(\\frac{\\partial^{2}}{\\partial y^{2}}  \\operatorname{u_{0}}{\\left (x,y \\right )} + \\frac{\\partial^{2}}{\\partial x\\partial y}  \\operatorname{v_{0}}{\\left (x,y \\right )}\\right) + A_{26} \\frac{\\partial^{2}}{\\partial x\\partial y}  \\operatorname{v_{0}}{\\left (x,y \\right )} + A_{66} \\left(\\frac{\\partial^{2}}{\\partial x\\partial y}  \\operatorname{u_{0}}{\\left (x,y \\right )} + \\frac{\\partial^{2}}{\\partial x^{2}}  \\operatorname{v_{0}}{\\left (x,y \\right )}\\right) - B_{12} \\frac{\\partial^{3}}{\\partial x^{2}\\partial y}  \\operatorname{w_{0}}{\\left (x,y \\right )} - B_{16} \\frac{\\partial^{3}}{\\partial x^{3}}  \\operatorname{w_{0}}{\\left (x,y \\right )} - B_{22} \\frac{\\partial^{3}}{\\partial y^{3}}  \\operatorname{w_{0}}{\\left (x,y \\right )} - 3 B_{26} \\frac{\\partial^{3}}{\\partial x\\partial y^{2}}  \\operatorname{w_{0}}{\\left (x,y \\right )} - 2 B_{66} \\frac{\\partial^{3}}{\\partial x^{2}\\partial y}  \\operatorname{w_{0}}{\\left (x,y \\right )}$$"
      ],
      "text/plain": [
       "       2                    2                   2                 ⎛  2        \n",
       "      ∂                    ∂                   ∂                  ⎜ ∂         \n",
       "A₁₂⋅─────(u₀(x, y)) + A₁₆⋅───(u₀(x, y)) + A₂₂⋅───(v₀(x, y)) + A₂₆⋅⎜───(u₀(x, y\n",
       "    ∂y ∂x                   2                   2                 ⎜  2        \n",
       "                          ∂x                  ∂y                  ⎝∂y         \n",
       "\n",
       "        2           ⎞          2                  ⎛   2                2      \n",
       "       ∂            ⎟         ∂                   ⎜  ∂                ∂       \n",
       ")) + ─────(v₀(x, y))⎟ + A₂₆⋅─────(v₀(x, y)) + A₆₆⋅⎜─────(u₀(x, y)) + ───(v₀(x,\n",
       "     ∂y ∂x          ⎟       ∂y ∂x                 ⎜∂y ∂x               2      \n",
       "                    ⎠                             ⎝                  ∂x       \n",
       "\n",
       "    ⎞          3                     3                   3                    \n",
       "    ⎟         ∂                     ∂                   ∂                     \n",
       " y))⎟ - B₁₂⋅──────(w₀(x, y)) - B₁₆⋅───(w₀(x, y)) - B₂₂⋅───(w₀(x, y)) - 3⋅B₂₆⋅─\n",
       "    ⎟            2                   3                   3                    \n",
       "    ⎠       ∂y ∂x                  ∂x                  ∂y                    ∂\n",
       "\n",
       "  3                        3            \n",
       " ∂                        ∂             \n",
       "─────(w₀(x, y)) - 2⋅B₆₆⋅──────(w₀(x, y))\n",
       " 2                           2          \n",
       "y  ∂x                   ∂y ∂x           "
      ]
     },
     "execution_count": 15,
     "metadata": {},
     "output_type": "execute_result"
    }
   ],
   "source": [
    "eq2 = diff(Nxyf,x) + diff(Nyf,y)\n",
    "eq2"
   ]
  },
  {
   "cell_type": "code",
   "execution_count": 16,
   "metadata": {
    "collapsed": false
   },
   "outputs": [
    {
     "data": {
      "text/latex": [
       "$$B_{11} \\frac{\\partial^{3}}{\\partial x^{3}}  \\operatorname{u_{0}}{\\left (x,y \\right )} + B_{12} \\frac{\\partial^{3}}{\\partial x\\partial y^{2}}  \\operatorname{u_{0}}{\\left (x,y \\right )} + B_{12} \\frac{\\partial^{3}}{\\partial x^{2}\\partial y}  \\operatorname{v_{0}}{\\left (x,y \\right )} + B_{16} \\left(\\frac{\\partial^{3}}{\\partial x^{2}\\partial y}  \\operatorname{u_{0}}{\\left (x,y \\right )} + \\frac{\\partial^{3}}{\\partial x^{3}}  \\operatorname{v_{0}}{\\left (x,y \\right )}\\right) + 2 B_{16} \\frac{\\partial^{3}}{\\partial x^{2}\\partial y}  \\operatorname{u_{0}}{\\left (x,y \\right )} + B_{22} \\frac{\\partial^{3}}{\\partial y^{3}}  \\operatorname{v_{0}}{\\left (x,y \\right )} + B_{26} \\left(\\frac{\\partial^{3}}{\\partial y^{3}}  \\operatorname{u_{0}}{\\left (x,y \\right )} + \\frac{\\partial^{3}}{\\partial x\\partial y^{2}}  \\operatorname{v_{0}}{\\left (x,y \\right )}\\right) + 2 B_{26} \\frac{\\partial^{3}}{\\partial x\\partial y^{2}}  \\operatorname{v_{0}}{\\left (x,y \\right )} + 2 B_{66} \\left(\\frac{\\partial^{3}}{\\partial x\\partial y^{2}}  \\operatorname{u_{0}}{\\left (x,y \\right )} + \\frac{\\partial^{3}}{\\partial x^{2}\\partial y}  \\operatorname{v_{0}}{\\left (x,y \\right )}\\right) - D_{11} \\frac{\\partial^{4}}{\\partial x^{4}}  \\operatorname{w_{0}}{\\left (x,y \\right )} - 2 D_{12} \\frac{\\partial^{4}}{\\partial x^{2}\\partial y^{2}}  \\operatorname{w_{0}}{\\left (x,y \\right )} - 4 D_{16} \\frac{\\partial^{4}}{\\partial x^{3}\\partial y}  \\operatorname{w_{0}}{\\left (x,y \\right )} - D_{22} \\frac{\\partial^{4}}{\\partial y^{4}}  \\operatorname{w_{0}}{\\left (x,y \\right )} - 4 D_{26} \\frac{\\partial^{4}}{\\partial x\\partial y^{3}}  \\operatorname{w_{0}}{\\left (x,y \\right )} - 4 D_{66} \\frac{\\partial^{4}}{\\partial x^{2}\\partial y^{2}}  \\operatorname{w_{0}}{\\left (x,y \\right )} + q$$"
      ],
      "text/plain": [
       "      3                    3                      3                   ⎛   3   \n",
       "     ∂                    ∂                      ∂                    ⎜  ∂    \n",
       "B₁₁⋅───(u₀(x, y)) + B₁₂⋅──────(u₀(x, y)) + B₁₂⋅──────(v₀(x, y)) + B₁₆⋅⎜──────(\n",
       "      3                   2                         2                 ⎜     2 \n",
       "    ∂x                  ∂y  ∂x                 ∂y ∂x                  ⎝∂y ∂x  \n",
       "\n",
       "              3          ⎞            3                     3                 \n",
       "             ∂           ⎟           ∂                     ∂                  \n",
       "u₀(x, y)) + ───(v₀(x, y))⎟ + 2⋅B₁₆⋅──────(u₀(x, y)) + B₂₂⋅───(v₀(x, y)) + B₂₆⋅\n",
       "              3          ⎟              2                   3                 \n",
       "            ∂x           ⎠         ∂y ∂x                  ∂y                  \n",
       "\n",
       "⎛  3                3            ⎞            3                     ⎛   3     \n",
       "⎜ ∂                ∂             ⎟           ∂                      ⎜  ∂      \n",
       "⎜───(u₀(x, y)) + ──────(v₀(x, y))⎟ + 2⋅B₂₆⋅──────(v₀(x, y)) + 2⋅B₆₆⋅⎜──────(u₀\n",
       "⎜  3               2             ⎟           2                      ⎜  2      \n",
       "⎝∂y              ∂y  ∂x          ⎠         ∂y  ∂x                   ⎝∂y  ∂x   \n",
       "\n",
       "             3            ⎞         4                       4                 \n",
       "            ∂             ⎟        ∂                       ∂                  \n",
       "(x, y)) + ──────(v₀(x, y))⎟ - D₁₁⋅───(w₀(x, y)) - 2⋅D₁₂⋅───────(w₀(x, y)) - 4⋅\n",
       "               2          ⎟         4                     2   2               \n",
       "          ∂y ∂x           ⎠       ∂x                    ∂y  ∂x                \n",
       "\n",
       "       4                     4                      4                         \n",
       "      ∂                     ∂                      ∂                         ∂\n",
       "D₁₆⋅──────(w₀(x, y)) - D₂₂⋅───(w₀(x, y)) - 4⋅D₂₆⋅──────(w₀(x, y)) - 4⋅D₆₆⋅────\n",
       "         3                   4                     3                        2 \n",
       "    ∂y ∂x                  ∂y                    ∂y  ∂x                   ∂y  \n",
       "\n",
       "4                \n",
       "                 \n",
       "───(w₀(x, y)) + q\n",
       "  2              \n",
       "∂x               "
      ]
     },
     "execution_count": 16,
     "metadata": {},
     "output_type": "execute_result"
    }
   ],
   "source": [
    "eq3 = diff(Mxf,x,2) + 2*diff(Mxyf,x,y) + diff(Myf,y,2) + q\n",
    "eq3"
   ]
  },
  {
   "cell_type": "markdown",
   "metadata": {},
   "source": [
    "Yikes, I do not want to solve that (at least right now). If we make the assumption that the plate has equal displacement of y in the x and y direction, then we can simply things ALOT! These simplifications are valid for cross ply unsymmetric laminates plate, Hyer pg 616. This is applied by setting some of our material properties to zero. $ A16=A26=D16=D26=B16=B26=B12=B66=0 $\n",
    "Almost like magic, we now have some equations that aren't so scary."
   ]
  },
  {
   "cell_type": "code",
   "execution_count": 17,
   "metadata": {
    "collapsed": true
   },
   "outputs": [],
   "source": [
    "u0 = Function('u0')(x)\n",
    "v0 = Function('v0')(x)\n",
    "w0 = Function('w0')(x)"
   ]
  },
  {
   "cell_type": "code",
   "execution_count": 18,
   "metadata": {
    "collapsed": false
   },
   "outputs": [
    {
     "data": {
      "text/latex": [
       "$$N_{x} = A_{11} \\frac{d}{d x} \\operatorname{u_{0}}{\\left (x \\right )} - B_{11} \\frac{d^{2}}{d x^{2}}  \\operatorname{w_{0}}{\\left (x \\right )}$$"
      ],
      "text/plain": [
       "                           2       \n",
       "         d                d        \n",
       "Nₓ = A₁₁⋅──(u₀(x)) - B₁₁⋅───(w₀(x))\n",
       "         dx                2       \n",
       "                         dx        "
      ]
     },
     "execution_count": 18,
     "metadata": {},
     "output_type": "execute_result"
    }
   ],
   "source": [
    "Nxf = A11*diff(u0,x) + A12*diff(v0,y) - B11*diff(w0,x,2)\n",
    "Eq(Nx, Nxf)"
   ]
  },
  {
   "cell_type": "code",
   "execution_count": 19,
   "metadata": {
    "collapsed": false
   },
   "outputs": [
    {
     "data": {
      "text/latex": [
       "$$N_{y} = A_{12} \\frac{d}{d x} \\operatorname{u_{0}}{\\left (x \\right )}$$"
      ],
      "text/plain": [
       "          d        \n",
       "N_y = A₁₂⋅──(u₀(x))\n",
       "          dx       "
      ]
     },
     "execution_count": 19,
     "metadata": {},
     "output_type": "execute_result"
    }
   ],
   "source": [
    "Nyf = A12*diff(u0,x) + A22*diff(v0,y) - B22*diff(w0,y,2)\n",
    "Eq(Ny,Nyf)"
   ]
  },
  {
   "cell_type": "code",
   "execution_count": 20,
   "metadata": {
    "collapsed": false
   },
   "outputs": [
    {
     "data": {
      "text/latex": [
       "$$N_{xy} = A_{66} \\frac{d}{d x} \\operatorname{v_{0}}{\\left (x \\right )}$$"
      ],
      "text/plain": [
       "           d        \n",
       "N_xy = A₆₆⋅──(v₀(x))\n",
       "           dx       "
      ]
     },
     "execution_count": 20,
     "metadata": {},
     "output_type": "execute_result"
    }
   ],
   "source": [
    "Nxyf = A66*(diff(u0,y) + diff(v0,x))\n",
    "Eq(Nxy,Nxyf)"
   ]
  },
  {
   "cell_type": "code",
   "execution_count": 21,
   "metadata": {
    "collapsed": false
   },
   "outputs": [
    {
     "data": {
      "text/latex": [
       "$$M_{x} = B_{11} \\frac{d}{d x} \\operatorname{u_{0}}{\\left (x \\right )} - D_{11} \\frac{d^{2}}{d x^{2}}  \\operatorname{w_{0}}{\\left (x \\right )}$$"
      ],
      "text/plain": [
       "                           2       \n",
       "         d                d        \n",
       "Mₓ = B₁₁⋅──(u₀(x)) - D₁₁⋅───(w₀(x))\n",
       "         dx                2       \n",
       "                         dx        "
      ]
     },
     "execution_count": 21,
     "metadata": {},
     "output_type": "execute_result"
    }
   ],
   "source": [
    "Mxf = B11*diff(u0,x) - D11*diff(w0,x,2) - D12*diff(w0,y,2)\n",
    "Eq(Mx,Mxf)"
   ]
  },
  {
   "cell_type": "code",
   "execution_count": 22,
   "metadata": {
    "collapsed": false
   },
   "outputs": [
    {
     "data": {
      "text/latex": [
       "$$M_{y} = - D_{12} \\frac{d^{2}}{d x^{2}}  \\operatorname{w_{0}}{\\left (x \\right )}$$"
      ],
      "text/plain": [
       "             2       \n",
       "            d        \n",
       "M_y = -D₁₂⋅───(w₀(x))\n",
       "             2       \n",
       "           dx        "
      ]
     },
     "execution_count": 22,
     "metadata": {},
     "output_type": "execute_result"
    }
   ],
   "source": [
    "Myf = B22*diff(v0,y) - D12*diff(w0,x,2) - D22*diff(w0,y,2)\n",
    "Eq(My,Myf)"
   ]
  },
  {
   "cell_type": "code",
   "execution_count": 23,
   "metadata": {
    "collapsed": false
   },
   "outputs": [
    {
     "data": {
      "text/latex": [
       "$$M_{xy} = 0$$"
      ],
      "text/plain": [
       "M_xy = 0"
      ]
     },
     "execution_count": 23,
     "metadata": {},
     "output_type": "execute_result"
    }
   ],
   "source": [
    "Mxyf = 0\n",
    "Eq(Mxy,Mxyf)"
   ]
  },
  {
   "cell_type": "markdown",
   "metadata": {},
   "source": [
    "Now we are getting somewhere. Finally we can solve the differential equations "
   ]
  },
  {
   "cell_type": "code",
   "execution_count": 24,
   "metadata": {
    "collapsed": false
   },
   "outputs": [
    {
     "data": {
      "text/latex": [
       "$$\\operatorname{N_{x}}{\\left (x \\right )} = C_{1}$$"
      ],
      "text/plain": [
       "Nₓ(x) = C₁"
      ]
     },
     "execution_count": 24,
     "metadata": {},
     "output_type": "execute_result"
    }
   ],
   "source": [
    "dsolve(diff(Nx(x)))"
   ]
  },
  {
   "cell_type": "code",
   "execution_count": 25,
   "metadata": {
    "collapsed": false
   },
   "outputs": [
    {
     "data": {
      "text/latex": [
       "$$\\operatorname{M_{x}}{\\left (x \\right )} = C_{1} + C_{2} x - \\frac{q x^{2}}{2}$$"
      ],
      "text/plain": [
       "                       2\n",
       "                    q⋅x \n",
       "Mₓ(x) = C₁ + C₂⋅x - ────\n",
       "                     2  "
      ]
     },
     "execution_count": 25,
     "metadata": {},
     "output_type": "execute_result"
    }
   ],
   "source": [
    "dsolve(diff(Mx(x),x,2)+q)"
   ]
  },
  {
   "cell_type": "markdown",
   "metadata": {},
   "source": [
    "Now solve for u0 and w0 with some pixie dust"
   ]
  },
  {
   "cell_type": "code",
   "execution_count": 26,
   "metadata": {
    "collapsed": false
   },
   "outputs": [
    {
     "data": {
      "text/latex": [
       "$$A_{11} \\frac{d}{d x} \\operatorname{u_{0}}{\\left (x \\right )} - B_{11} \\frac{d^{2}}{d x^{2}}  \\operatorname{w_{0}}{\\left (x \\right )} - C_{1}$$"
      ],
      "text/plain": [
       "                      2            \n",
       "    d                d             \n",
       "A₁₁⋅──(u₀(x)) - B₁₁⋅───(w₀(x)) - C₁\n",
       "    dx                2            \n",
       "                    dx             "
      ]
     },
     "execution_count": 26,
     "metadata": {},
     "output_type": "execute_result"
    }
   ],
   "source": [
    "eq4 = (Nxf-C1)\n",
    "eq4"
   ]
  },
  {
   "cell_type": "code",
   "execution_count": 27,
   "metadata": {
    "collapsed": false
   },
   "outputs": [
    {
     "data": {
      "text/latex": [
       "$$B_{11} \\frac{d}{d x} \\operatorname{u_{0}}{\\left (x \\right )} - C_{2} x - C_{3} - D_{11} \\frac{d^{2}}{d x^{2}}  \\operatorname{w_{0}}{\\left (x \\right )} + q x^{2}$$"
      ],
      "text/plain": [
       "                                  2              \n",
       "    d                            d              2\n",
       "B₁₁⋅──(u₀(x)) - C₂⋅x - C₃ - D₁₁⋅───(w₀(x)) + q⋅x \n",
       "    dx                            2              \n",
       "                                dx               "
      ]
     },
     "execution_count": 27,
     "metadata": {},
     "output_type": "execute_result"
    }
   ],
   "source": [
    "eq5 = Mxf -( -q*x**2 + C2*x + C3 )\n",
    "eq5"
   ]
  },
  {
   "cell_type": "code",
   "execution_count": 28,
   "metadata": {
    "collapsed": false
   },
   "outputs": [
    {
     "data": {
      "text/latex": [
       "$$\\frac{1}{A_{11}} \\left(B_{11} \\frac{d^{2}}{d x^{2}}  \\operatorname{w_{0}}{\\left (x \\right )} + C_{1}\\right) = \\frac{1}{B_{11}} \\left(C_{2} x + C_{3} + D_{11} \\frac{d^{2}}{d x^{2}}  \\operatorname{w_{0}}{\\left (x \\right )} - q x^{2}\\right)$$"
      ],
      "text/plain": [
       "      2                                 2              \n",
       "     d                                 d              2\n",
       "B₁₁⋅───(w₀(x)) + C₁   C₂⋅x + C₃ + D₁₁⋅───(w₀(x)) - q⋅x \n",
       "      2                                 2              \n",
       "    dx                                dx               \n",
       "─────────────────── = ─────────────────────────────────\n",
       "        A₁₁                          B₁₁               "
      ]
     },
     "execution_count": 28,
     "metadata": {},
     "output_type": "execute_result"
    }
   ],
   "source": [
    "eq6 = Eq(solve(eq4,diff(u0,x))[0] , solve(eq5, diff(u0,x))[0])\n",
    "eq6"
   ]
  },
  {
   "cell_type": "code",
   "execution_count": 29,
   "metadata": {
    "collapsed": false
   },
   "outputs": [
    {
     "data": {
      "text/latex": [
       "$$\\operatorname{w_{0}}{\\left (x \\right )} = - \\frac{A_{11} C_{2} x^{3}}{6 A_{11} D_{11} - 6 B_{11}^{2}} + \\frac{A_{11} q x^{4}}{12 A_{11} D_{11} - 12 B_{11}^{2}} + C_{1} + C_{5} x + \\frac{x^{2} \\left(- A_{11} C_{3} + B_{11} C_{4}\\right)}{2 A_{11} D_{11} - 2 B_{11}^{2}}$$"
      ],
      "text/plain": [
       "                      3                     4                     2           \n",
       "              A₁₁⋅C₂⋅x               A₁₁⋅q⋅x                     x ⋅(-A₁₁⋅C₃ +\n",
       "w₀(x) = - ────────────────── + ─────────────────── + C₁ + C₅⋅x + ─────────────\n",
       "            ⎛             2⎞      ⎛             2⎞                   ⎛        \n",
       "          6⋅⎝A₁₁⋅D₁₁ - B₁₁ ⎠   12⋅⎝A₁₁⋅D₁₁ - B₁₁ ⎠                 2⋅⎝A₁₁⋅D₁₁ \n",
       "\n",
       "        \n",
       " B₁₁⋅C₄)\n",
       "────────\n",
       "     2⎞ \n",
       "- B₁₁ ⎠ "
      ]
     },
     "execution_count": 29,
     "metadata": {},
     "output_type": "execute_result"
    }
   ],
   "source": [
    "w0f = dsolve(eq6, w0)\n",
    "w0f"
   ]
  },
  {
   "cell_type": "code",
   "execution_count": 30,
   "metadata": {
    "collapsed": false
   },
   "outputs": [
    {
     "data": {
      "text/latex": [
       "$$\\frac{1}{A_{11} D_{11} - B_{11}^{2}} \\left(- A_{11} C_{2} x - A_{11} C_{3} + A_{11} q x^{2} + B_{11} C_{1}\\right) = \\frac{1}{B_{11}} \\left(A_{11} \\frac{d}{d x} \\operatorname{u_{0}}{\\left (x \\right )} - C_{1}\\right)$$"
      ],
      "text/plain": [
       "                                             d             \n",
       "                            2            A₁₁⋅──(u₀(x)) - C₁\n",
       "-A₁₁⋅C₂⋅x - A₁₁⋅C₃ + A₁₁⋅q⋅x  + B₁₁⋅C₁       dx            \n",
       "────────────────────────────────────── = ──────────────────\n",
       "                         2                      B₁₁        \n",
       "            A₁₁⋅D₁₁ - B₁₁                                  "
      ]
     },
     "execution_count": 30,
     "metadata": {},
     "output_type": "execute_result"
    }
   ],
   "source": [
    "eq7 = Eq(solve(eq6, diff(w0,x,2))[0] , solve(eq4,diff(w0,x,2))[0])\n",
    "eq7"
   ]
  },
  {
   "cell_type": "code",
   "execution_count": 31,
   "metadata": {
    "collapsed": false
   },
   "outputs": [
    {
     "data": {
      "text/latex": [
       "$$\\operatorname{u_{0}}{\\left (x \\right )} = \\frac{1}{A_{11} D_{11} - B_{11}^{2}} \\left(- \\frac{B_{11} C_{1}}{2} x^{2} - B_{11} C_{3} x - B_{11} C_{4} D_{11} + \\frac{B_{11} q}{3} x^{3} + C_{2} D_{11} x + \\frac{B_{11}^{3} C_{4}}{A_{11}}\\right)$$"
      ],
      "text/plain": [
       "                  2                                  3                 3   \n",
       "          B₁₁⋅C₁⋅x                            B₁₁⋅q⋅x               B₁₁ ⋅C₄\n",
       "        - ───────── - B₁₁⋅C₃⋅x - B₁₁⋅C₄⋅D₁₁ + ──────── + C₂⋅D₁₁⋅x + ───────\n",
       "              2                                  3                    A₁₁  \n",
       "u₀(x) = ───────────────────────────────────────────────────────────────────\n",
       "                                                2                          \n",
       "                                   A₁₁⋅D₁₁ - B₁₁                           "
      ]
     },
     "execution_count": 31,
     "metadata": {},
     "output_type": "execute_result"
    }
   ],
   "source": [
    "u0f = dsolve(eq7)\n",
    "u0f"
   ]
  },
  {
   "cell_type": "markdown",
   "metadata": {
    "collapsed": true
   },
   "source": [
    "- - - - "
   ]
  }
 ],
 "metadata": {
  "anaconda-cloud": {},
  "kernelspec": {
   "display_name": "Python [default]",
   "language": "python",
   "name": "python3"
  },
  "language_info": {
   "codemirror_mode": {
    "name": "ipython",
    "version": 3
   },
   "file_extension": ".py",
   "mimetype": "text/x-python",
   "name": "python",
   "nbconvert_exporter": "python",
   "pygments_lexer": "ipython3",
   "version": "3.5.2"
  }
 },
 "nbformat": 4,
 "nbformat_minor": 0
}
