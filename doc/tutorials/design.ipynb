{
 "cells": [
  {
   "cell_type": "markdown",
   "metadata": {},
   "source": [
    "- - - -\n",
    "# Mechpy Tutorials\n",
    "a mechanical engineering toolbox\n",
    "\n",
    "source code - https://github.com/nagordon/mechpy  \n",
    "documentation - https://nagordon.github.io/mechpy/web/  \n",
    "\n",
    "- - - -\n",
    "\n",
    "Neal Gordon  \n",
    "2017-02-20  \n",
    "\n",
    "- - - -\n",
    "\n",
    "\n",
    "\n",
    "## Mechanical Design Notes and code \n"
   ]
  },
  {
   "cell_type": "markdown",
   "metadata": {},
   "source": [
    "## Python Initilaization with module imports"
   ]
  },
  {
   "cell_type": "code",
   "execution_count": 1,
   "metadata": {
    "collapsed": false
   },
   "outputs": [],
   "source": [
    "# setup \n",
    "import numpy as np\n",
    "import sympy as sp\n",
    "import scipy\n",
    "from pprint import pprint\n",
    "sp.init_printing(use_latex='mathjax')\n",
    "\n",
    "import matplotlib.pyplot as plt\n",
    "plt.rcParams['figure.figsize'] = (12, 8)  # (width, height)\n",
    "plt.rcParams['font.size'] = 14\n",
    "plt.rcParams['legend.fontsize'] = 16\n",
    "from matplotlib import patches\n",
    "\n",
    "#get_ipython().magic('matplotlib')  # seperate window\n",
    "get_ipython().magic('matplotlib inline') # inline plotting"
   ]
  },
  {
   "cell_type": "code",
   "execution_count": 6,
   "metadata": {
    "collapsed": false
   },
   "outputs": [
    {
     "data": {
      "text/plain": [
       "'/home/neal/Desktop/mechpy'"
      ]
     },
     "execution_count": 6,
     "metadata": {},
     "output_type": "execute_result"
    }
   ],
   "source": [
    "pwd"
   ]
  },
  {
   "cell_type": "code",
   "execution_count": 5,
   "metadata": {
    "collapsed": false
   },
   "outputs": [],
   "source": [
    "import mechpy"
   ]
  },
  {
   "cell_type": "code",
   "execution_count": 4,
   "metadata": {
    "collapsed": true
   },
   "outputs": [],
   "source": [
    "import os ; os.chdir('..')  # change to root from the examples folder"
   ]
  },
  {
   "cell_type": "code",
   "execution_count": 7,
   "metadata": {
    "collapsed": false
   },
   "outputs": [],
   "source": [
    "from mechpy.design import fastened_joint"
   ]
  },
  {
   "cell_type": "markdown",
   "metadata": {},
   "source": [
    "# Materials\n",
    "[index](#Mechpy)\n",
    "\n",
    "## Stress and Strain\n",
    "Stress is a tensor that can be broken into \n",
    "\n",
    "$$\n",
    "\\overline{\\sigma}=\\begin{bmatrix}\n",
    " \\sigma_{xx} & \\sigma_{xy} & \\sigma_{xz}\\\\\n",
    " \\sigma_{yx} & \\sigma_{yy} & \\sigma_{yz}\\\\\n",
    " \\sigma_{zx} & \\sigma_{zy} & \\sigma_{zz}\n",
    " \\end{bmatrix} \n",
    "$$\n",
    "\n",
    "\n",
    "\n",
    "## Factors of safety\n",
    "In aerospace, typically 1.2 for civilian aircraft and 1.15 for military\n",
    "\n",
    "$$FS=\\frac{\\sigma_{yield}}{\\sigma}-1$$  \n",
    "\n",
    "## Fastener Notes and Formulas\n",
    "\n",
    "Finding the centroid of a bolt with coordinates, $\\overline{x},\\overline{y}$\n",
    "$$ \\overline{x}=\\frac{\\sum_{i=1}^{n_b}{A_i x_i} }{\\sum_{i=1}^{n_b}{A_i} } \\ \\ \\overline{y}=\\frac{\\sum_{i=1}^{n_b}{A_i y_i} }{\\sum_{i=1}^{n_b}{A_i}}$$\n",
    "\n",
    "Joint/Polar Moment of Inertia, $r=$ distance from centroid to fastener\n",
    "$$J= \\int{r^2dA}= \\sum_{i=1}^{n_b}{A_k r_k^2}$$\n",
    "\n",
    "Bearing Stress on a bolt\n",
    "$$\\sigma^i_{bearing}=\\frac{V_{max}}{Dt}$$\n",
    "\n",
    "Shear Stress on each bolt i due to shear force\n",
    "$$\\tau_f^i = \\frac{P}{\\sum_{i=1}^{n_b}{A_i} }$$  \n",
    "Where $A_i=$ the area of ith bolt, $n_b=$number of bolts, and $P=$ shear force\n",
    "\n",
    "Shear Stress on each bolt i due to moment\n",
    "$$\\tau_t^i = \\frac{T r_i}{J} $$  \n",
    "\n",
    "### Modes of failure of fastened Joints\n",
    "1. Tensile Plate Failure across the net section between rivets/bolts\n",
    "2. Failure of rivets through shear\n",
    "3. Compression failure between rivet and plate\n",
    "4. Edge shear-out at rivet hole\n",
    "5. Edge tearing at rivet hole\n",
    "\n",
    "#### 1.\n",
    "\n",
    "$$\\sigma_t =\\frac{F_s}{(b-nd)t}$$\n",
    "\n",
    "#### 2.\n",
    "\n",
    "#### 3.\n",
    "\n",
    "#### 4.\n",
    "\n",
    "#### 5.\n",
    "\n",
    "\n",
    "\n",
    "## Adhesive Joints\n",
    "\n",
    "With members, or adherends, joined with adhesives, either the member will fail due to tensile loads or the adhesive will fail in shear.\n",
    "\n",
    "The simple solution to finding the stress of bonded surfaces is taking the average stress\n",
    "$$\\tau_{avg}=\\frac{P}{bL}$$, is not an accurate way to model maximum stress. A good rule of thumb based on the calculations below is \n",
    "$$\\tau_{max}=2.08\\tau_{avg}$$\n",
    "\n",
    "The maximum shearing stress of an adhesive layer, $\\tau_{max}$, can be computed as \n",
    "$$\\tau_{max}=K_s\\tau_{avg}=K_s\\left(\\frac{P}{bL_L}\\right)$$\n",
    "with $P$ as applied load, $b$ as the width ofthe adhesive layer, and $L_L$ as the length ofthe adhesive layer. The stress distribution factor, $K_s$, can be defined as $K_s=\\frac{cL}{tanh(CL/2)}$ where $c=\\sqrt{\\frac{2G_a}{Et_mt_a}}$, where the shear modulus, $G_a=\\frac{\\tau}{\\gamma}$, and $E$ as the modulus of elasticity.\n",
    "\n",
    "\n",
    "The max shearing stress, $\\tau_{max}$ in a scarf joint can be found with \n",
    "$$\\tau_{max}=K_s\\tau_{avg}=K_s\\left[ \\frac{Pcos\\theta}{\\left(\\frac{bt}{sin\\theta} \\right)  } \\right] = K_s\\left(  \\frac{P}{bt} sin\\theta cos\\theta \\right)$$\n",
    "where $t$ is the thickness of the adherend members and $\\theta=tan^{-1}\\frac{t}{L_s}$ is the scarf angle\n",
    "\n",
    "*Mechanical Design of Machine Elements and Machines by Collins, Jack A., Busby, Henry R., Staab, George H. (2009)*"
   ]
  },
  {
   "cell_type": "code",
   "execution_count": 8,
   "metadata": {
    "collapsed": false
   },
   "outputs": [
    {
     "data": {
      "text/html": [
       "<div>\n",
       "<table border=\"1\" class=\"dataframe\">\n",
       "  <thead>\n",
       "    <tr style=\"text-align: right;\">\n",
       "      <th></th>\n",
       "      <th>Fastener</th>\n",
       "      <th>x</th>\n",
       "      <th>y</th>\n",
       "      <th>x^2</th>\n",
       "      <th>y^2</th>\n",
       "      <th>xbar</th>\n",
       "      <th>ybar</th>\n",
       "    </tr>\n",
       "  </thead>\n",
       "  <tbody>\n",
       "    <tr>\n",
       "      <th>0</th>\n",
       "      <td>0</td>\n",
       "      <td>0</td>\n",
       "      <td>0</td>\n",
       "      <td>0</td>\n",
       "      <td>0</td>\n",
       "      <td>1.5</td>\n",
       "      <td>0.5</td>\n",
       "    </tr>\n",
       "    <tr>\n",
       "      <th>1</th>\n",
       "      <td>1</td>\n",
       "      <td>1</td>\n",
       "      <td>0</td>\n",
       "      <td>1</td>\n",
       "      <td>0</td>\n",
       "      <td>1.5</td>\n",
       "      <td>0.5</td>\n",
       "    </tr>\n",
       "    <tr>\n",
       "      <th>2</th>\n",
       "      <td>2</td>\n",
       "      <td>2</td>\n",
       "      <td>0</td>\n",
       "      <td>4</td>\n",
       "      <td>0</td>\n",
       "      <td>1.5</td>\n",
       "      <td>0.5</td>\n",
       "    </tr>\n",
       "    <tr>\n",
       "      <th>3</th>\n",
       "      <td>3</td>\n",
       "      <td>3</td>\n",
       "      <td>0</td>\n",
       "      <td>9</td>\n",
       "      <td>0</td>\n",
       "      <td>1.5</td>\n",
       "      <td>0.5</td>\n",
       "    </tr>\n",
       "    <tr>\n",
       "      <th>4</th>\n",
       "      <td>4</td>\n",
       "      <td>0</td>\n",
       "      <td>1</td>\n",
       "      <td>0</td>\n",
       "      <td>1</td>\n",
       "      <td>1.5</td>\n",
       "      <td>0.5</td>\n",
       "    </tr>\n",
       "    <tr>\n",
       "      <th>5</th>\n",
       "      <td>5</td>\n",
       "      <td>1</td>\n",
       "      <td>1</td>\n",
       "      <td>1</td>\n",
       "      <td>1</td>\n",
       "      <td>1.5</td>\n",
       "      <td>0.5</td>\n",
       "    </tr>\n",
       "    <tr>\n",
       "      <th>6</th>\n",
       "      <td>6</td>\n",
       "      <td>2</td>\n",
       "      <td>1</td>\n",
       "      <td>4</td>\n",
       "      <td>1</td>\n",
       "      <td>1.5</td>\n",
       "      <td>0.5</td>\n",
       "    </tr>\n",
       "    <tr>\n",
       "      <th>7</th>\n",
       "      <td>7</td>\n",
       "      <td>3</td>\n",
       "      <td>1</td>\n",
       "      <td>9</td>\n",
       "      <td>1</td>\n",
       "      <td>1.5</td>\n",
       "      <td>0.5</td>\n",
       "    </tr>\n",
       "  </tbody>\n",
       "</table>\n",
       "</div>"
      ],
      "text/plain": [
       "   Fastener  x  y  x^2  y^2  xbar  ybar\n",
       "0         0  0  0    0    0   1.5   0.5\n",
       "1         1  1  0    1    0   1.5   0.5\n",
       "2         2  2  0    4    0   1.5   0.5\n",
       "3         3  3  0    9    0   1.5   0.5\n",
       "4         4  0  1    0    1   1.5   0.5\n",
       "5         5  1  1    1    1   1.5   0.5\n",
       "6         6  2  1    4    1   1.5   0.5\n",
       "7         7  3  1    9    1   1.5   0.5"
      ]
     },
     "execution_count": 8,
     "metadata": {},
     "output_type": "execute_result"
    },
    {
     "data": {
      "image/png": "[encoded data removed]",
      "text/plain": [
       "<matplotlib.figure.Figure at 0x7f4e8625fc50>"
      ]
     },
     "metadata": {},
     "output_type": "display_data"
    }
   ],
   "source": [
    "## Bolted Joint Example\n",
    "\n",
    "# fastener Location\n",
    "fx = [0,1,2,3,0,1,2,3]\n",
    "fy = [0,0,0,0,1,1,1,1]\n",
    "# Force magnitude(x,y)\n",
    "P = [-300,-500]\n",
    "# Force location\n",
    "l = [2,1]\n",
    "df = fastened_joint(fx, fy, P, l)\n",
    "\n",
    "df.plot(kind='scatter', x='x', y='y');\n",
    "#df.plot(style='o', x='x', y='y')\n",
    "plt.plot(df.xbar[0],df.ybar[0],'*')\n",
    "df\n",
    "#ax = plt.gca()\n",
    "#ax.arrow(l[0], l[1], Pnorm[0],Pnorm[1], head_width=0.05, head_length=0.1, fc='k', ec='k')\n",
    "#x.arrow(xbar, ybar, Pnorm[0],0, head_width=0.05, head_length=0.1, fc='k', ec='k')\n",
    "#ax.arrow(xbar, ybar, 0,Pnorm[1], head_width=0.05, head_length=0.1, fc='k', ec='k')"
   ]
  },
  {
   "cell_type": "markdown",
   "metadata": {},
   "source": [
    "# Design"
   ]
  },
  {
   "cell_type": "markdown",
   "metadata": {},
   "source": [
    "## Factors of Safety\n",
    "\n",
    "DLL, Design Limit Load = max force or moment expected during a mission with a given statistical probability  \n",
    "\n",
    "Al, Allowable =  allowed minimum applied load or strength of a structure at a given statistical probablity  \n",
    "\n",
    "FS, factor of safety [1, $\\infty$] = a factor applied to a DLL to decrease the chance of failure, typically around 1-3  \n",
    "\n",
    "KD, knockdown (0,1] = a percentage reduction of Allowable load to reduce the chance of failure\n",
    "\n",
    "A KD=0.8 would be applied to the allowable to reduce it by 20%, $Al_{new}=Al_{old}*KD$   \n",
    "\n",
    "MS, margin of safety = a measure of reserve strength , how much applied loda can increase before the safety of the vehicle is comprimised. $ MS\\geq0$ for a good design, $MS=\\frac{Allowable}{DLL*FS}-1$\n",
    "\n",
    "For example with a $FS=1.15$, $DLL=80$, $Al=100$, we have a margin of $MS=\\frac{100}{80*1.15}-1=\\frac{100}{92}-1=0.087$ which is passing our design checks based on the expected max load of 80\n",
    "\n",
    "Lets Assume a knockdown of 27%, so $K=1-0.27=0.73$  \n",
    "\n",
    "$$\n",
    "FS = \\frac{1}{K}\n",
    "$$\n",
    "\n",
    "\n",
    "We can also say we have a $FS = \\frac{1}{0.73}=1.3699$\n",
    "\n",
    "$$\n",
    "\\sigma_{design}=\\frac{\\sigma_{ult}}{FS} = \\sigma_{ult}*K\n",
    "$$\n"
   ]
  },
  {
   "cell_type": "markdown",
   "metadata": {},
   "source": []
  }
 ],
 "metadata": {
  "anaconda-cloud": {},
  "kernelspec": {
   "display_name": "Python [default]",
   "language": "python",
   "name": "python3"
  },
  "language_info": {
   "codemirror_mode": {
    "name": "ipython",
    "version": 3
   },
   "file_extension": ".py",
   "mimetype": "text/x-python",
   "name": "python",
   "nbconvert_exporter": "python",
   "pygments_lexer": "ipython3",
   "version": "3.5.2"
  }
 },
 "nbformat": 4,
 "nbformat_minor": 0
}
